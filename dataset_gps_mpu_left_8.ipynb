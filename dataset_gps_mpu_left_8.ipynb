{
 "cells": [
  {
   "cell_type": "code",
   "execution_count": 1,
   "metadata": {},
   "outputs": [],
   "source": [
    "import pandas as pd\n",
    "\n",
    "df = pd.read_csv('dataset_gps_mpu_left_8.csv')\n",
    "\n",
    "df = df[['timestamp', 'acc_x_dashboard', 'acc_y_dashboard', 'acc_z_dashboard', \n",
    " 'gyro_x_dashboard', 'gyro_y_dashboard', 'gyro_z_dashboard', 'timestamp_gps',\n",
    " 'latitude', 'longitude']]\n",
    "\n",
    "df.to_csv('modified_dataset_gps_mpu_left_8.csv', index=False)"
   ]
  },
  {
   "cell_type": "code",
   "execution_count": 2,
   "metadata": {},
   "outputs": [
    {
     "name": "stdout",
     "output_type": "stream",
     "text": [
      "      timestamp  acc_x_dashboard  acc_y_dashboard  acc_z_dashboard  \\\n",
      "0  1.577397e+09        -0.003621         0.015650         9.861541   \n",
      "1  1.577397e+09         0.008351         0.063534         9.789715   \n",
      "2  1.577397e+09        -0.027563         0.008467         9.839994   \n",
      "3  1.577397e+09        -0.003621         0.044380         9.811263   \n",
      "4  1.577397e+09         0.005956        -0.003504         9.824431   \n",
      "5  1.577397e+09         0.003562        -0.015475         9.794504   \n",
      "6  1.577397e+09         0.013139         0.015650         9.804081   \n",
      "7  1.577397e+09         0.014336         0.032409         9.828023   \n",
      "8  1.577397e+09        -0.022774         0.039592         9.818446   \n",
      "9  1.577397e+09        -0.022774         0.018044         9.839994   \n",
      "\n",
      "   gyro_x_dashboard  gyro_y_dashboard  gyro_z_dashboard  timestamp_gps  \\\n",
      "0         -0.190921         -0.132491          0.026052   1.577397e+09   \n",
      "1          0.358395         -0.010421         -0.309642   1.577397e+09   \n",
      "2          0.144772         -0.010421         -0.309642   1.577397e+09   \n",
      "3          0.144772         -0.010421          0.117604   1.577397e+09   \n",
      "4         -0.053592         -0.086715         -0.172313   1.577397e+09   \n",
      "5          0.144772          0.050615         -0.187571   1.577397e+09   \n",
      "6          0.266843          0.111650         -0.034984   1.577397e+09   \n",
      "7          0.129514          0.248979         -0.263865   1.577397e+09   \n",
      "8          0.022702          0.111650          0.087087   1.577397e+09   \n",
      "9         -0.129886          0.050615         -0.157054   1.577397e+09   \n",
      "\n",
      "   latitude  longitude  \n",
      "0 -27.71775 -51.099013  \n",
      "1 -27.71775 -51.099013  \n",
      "2 -27.71775 -51.099013  \n",
      "3 -27.71775 -51.099013  \n",
      "4 -27.71775 -51.099013  \n",
      "5 -27.71775 -51.099013  \n",
      "6 -27.71775 -51.099013  \n",
      "7 -27.71775 -51.099013  \n",
      "8 -27.71775 -51.099013  \n",
      "9 -27.71775 -51.099013  \n"
     ]
    }
   ],
   "source": [
    "df = pd.read_csv('modified_dataset_gps_mpu_left_8.csv')\n",
    "\n",
    "print(df.head(10))"
   ]
  },
  {
   "cell_type": "code",
   "execution_count": 3,
   "metadata": {},
   "outputs": [],
   "source": [
    "import numpy as np\n",
    "from pykalman import KalmanFilter\n",
    "\n",
    "df = pd.read_csv('modified_dataset_gps_mpu_left_8.csv')\n",
    "\n",
    "kf = KalmanFilter(initial_state_mean=[0,0,0,0,0,0,0,0,0,0],\n",
    " initial_state_covariance=np.eye(10),\n",
    " transition_matrices=np.eye(10),\n",
    " observation_matrices=np.eye(10),\n",
    " observation_covariance=np.eye(10),\n",
    " transition_covariance=np.eye(10))\n",
    "\n",
    "filtered_state_means, filtered_state_covariances = kf.filter(df.values)\n",
    "\n",
    "latitude = filtered_state_means[:, 8]\n",
    "longitude = filtered_state_means[:, 9]\n",
    "\n",
    "result_df = pd.DataFrame({'latitude': latitude, 'longitude': longitude})\n",
    "\n",
    "result_df.to_csv('result_gps_mpu_left_8.csv', index=False)"
   ]
  },
  {
   "cell_type": "code",
   "execution_count": 6,
   "metadata": {},
   "outputs": [
    {
     "name": "stdout",
     "output_type": "stream",
     "text": [
      "    latitude  longitude\n",
      "0 -13.858875 -25.549506\n",
      "1 -22.174200 -40.879210\n",
      "2 -25.585615 -47.168319\n",
      "3 -26.902522 -49.596100\n",
      "4 -27.406314 -50.524866\n",
      "5 -27.598790 -50.879703\n",
      "6 -27.672311 -51.015244\n",
      "7 -27.700394 -51.067016\n",
      "8 -27.711120 -51.086791\n",
      "9 -27.715218 -51.094344\n"
     ]
    }
   ],
   "source": [
    "df = pd.read_csv('result_gps_mpu_left_8.csv')\n",
    "\n",
    "print(df.head(10))"
   ]
  },
  {
   "cell_type": "code",
   "execution_count": null,
   "metadata": {},
   "outputs": [],
   "source": []
  }
 ],
 "metadata": {
  "kernelspec": {
   "display_name": "Python 3",
   "language": "python",
   "name": "python3"
  },
  "language_info": {
   "codemirror_mode": {
    "name": "ipython",
    "version": 3
   },
   "file_extension": ".py",
   "mimetype": "text/x-python",
   "name": "python",
   "nbconvert_exporter": "python",
   "pygments_lexer": "ipython3",
   "version": "3.7.6"
  }
 },
 "nbformat": 4,
 "nbformat_minor": 4
}
