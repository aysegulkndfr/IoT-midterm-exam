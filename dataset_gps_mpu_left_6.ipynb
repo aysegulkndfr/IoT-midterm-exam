{
 "cells": [
  {
   "cell_type": "code",
   "execution_count": 1,
   "metadata": {},
   "outputs": [],
   "source": [
    "import pandas as pd\n",
    "\n",
    "df = pd.read_csv('dataset_gps_mpu_left_6.csv')\n",
    "\n",
    "df = df[['timestamp', 'acc_x_dashboard', 'acc_y_dashboard', 'acc_z_dashboard', \n",
    " 'gyro_x_dashboard', 'gyro_y_dashboard', 'gyro_z_dashboard', 'timestamp_gps',\n",
    " 'latitude', 'longitude']]\n",
    "\n",
    "df.to_csv('modified_dataset_gps_mpu_left_6.csv', index=False)"
   ]
  },
  {
   "cell_type": "code",
   "execution_count": 2,
   "metadata": {},
   "outputs": [
    {
     "name": "stdout",
     "output_type": "stream",
     "text": [
      "      timestamp  acc_x_dashboard  acc_y_dashboard  acc_z_dashboard  \\\n",
      "0  1.577310e+09         0.030885         0.017957         9.821195   \n",
      "1  1.577310e+09         0.011732        -0.003591         9.761340   \n",
      "2  1.577310e+09         0.136230         0.144849         9.672754   \n",
      "3  1.577310e+09         0.096726         0.113725         9.821195   \n",
      "4  1.577310e+09         0.097923         0.010774         9.902598   \n",
      "5  1.577310e+09         0.050039         0.022745         9.943299   \n",
      "6  1.577310e+09         0.083558         0.005986         9.576986   \n",
      "7  1.577310e+09         0.046448         0.023942         9.842743   \n",
      "8  1.577310e+09        -0.007422        -0.029928         9.864290   \n",
      "9  1.577310e+09        -0.016999         0.084994         9.806830   \n",
      "\n",
      "   gyro_x_dashboard  gyro_y_dashboard  gyro_z_dashboard  timestamp_gps  \\\n",
      "0          0.074196          0.012016         -0.037956   1.577310e+09   \n",
      "1          0.043678         -0.354195         -0.282097   1.577310e+09   \n",
      "2          0.226784         -0.110054         -0.190544   1.577310e+09   \n",
      "3          0.501442         -0.155830         -0.068474   1.577310e+09   \n",
      "4          0.074196          0.164604         -0.221062   1.577310e+09   \n",
      "5         -0.078392          0.073051         -0.037956   1.577310e+09   \n",
      "6         -0.047874         -0.049019          0.267220   1.577310e+09   \n",
      "7          0.119972         -0.338936         -0.068474   1.577310e+09   \n",
      "8          0.104713          0.134087          0.053596   1.577310e+09   \n",
      "9         -0.261497         -0.232124         -0.007439   1.577310e+09   \n",
      "\n",
      "    latitude  longitude  \n",
      "0 -27.717738 -51.099078  \n",
      "1 -27.717738 -51.099078  \n",
      "2 -27.717738 -51.099078  \n",
      "3 -27.717738 -51.099078  \n",
      "4 -27.717738 -51.099078  \n",
      "5 -27.717738 -51.099078  \n",
      "6 -27.717738 -51.099078  \n",
      "7 -27.717738 -51.099078  \n",
      "8 -27.717738 -51.099078  \n",
      "9 -27.717738 -51.099078  \n"
     ]
    }
   ],
   "source": [
    "df = pd.read_csv('modified_dataset_gps_mpu_left_6.csv')\n",
    "\n",
    "print(df.head(10))"
   ]
  },
  {
   "cell_type": "code",
   "execution_count": 3,
   "metadata": {},
   "outputs": [],
   "source": [
    "import numpy as np\n",
    "from pykalman import KalmanFilter\n",
    "\n",
    "df = pd.read_csv('modified_dataset_gps_mpu_left_6.csv')\n",
    "\n",
    "kf = KalmanFilter(initial_state_mean=[0,0,0,0,0,0,0,0,0,0],\n",
    " initial_state_covariance=np.eye(10),\n",
    " transition_matrices=np.eye(10),\n",
    " observation_matrices=np.eye(10),\n",
    " observation_covariance=np.eye(10),\n",
    " transition_covariance=np.eye(10))\n",
    "\n",
    "filtered_state_means, filtered_state_covariances = kf.filter(df.values)\n",
    "\n",
    "latitude = filtered_state_means[:, 8]\n",
    "longitude = filtered_state_means[:, 9]\n",
    "\n",
    "result_df = pd.DataFrame({'latitude': latitude, 'longitude': longitude})\n",
    "\n",
    "result_df.to_csv('result_gps_mpu_left_6.csv', index=False)"
   ]
  },
  {
   "cell_type": "code",
   "execution_count": 4,
   "metadata": {},
   "outputs": [
    {
     "name": "stdout",
     "output_type": "stream",
     "text": [
      "    latitude  longitude\n",
      "0 -13.858869 -25.549539\n",
      "1 -22.174190 -40.879263\n",
      "2 -25.585604 -47.168380\n",
      "3 -26.902510 -49.596164\n",
      "4 -27.406303 -50.524931\n",
      "5 -27.598778 -50.879769\n",
      "6 -27.672299 -51.015309\n",
      "7 -27.700382 -51.067081\n",
      "8 -27.711108 -51.086856\n",
      "9 -27.715206 -51.094410\n"
     ]
    }
   ],
   "source": [
    "df = pd.read_csv('result_gps_mpu_left_6.csv')\n",
    "\n",
    "print(df.head(10))"
   ]
  },
  {
   "cell_type": "code",
   "execution_count": null,
   "metadata": {},
   "outputs": [],
   "source": []
  }
 ],
 "metadata": {
  "kernelspec": {
   "display_name": "Python 3",
   "language": "python",
   "name": "python3"
  },
  "language_info": {
   "codemirror_mode": {
    "name": "ipython",
    "version": 3
   },
   "file_extension": ".py",
   "mimetype": "text/x-python",
   "name": "python",
   "nbconvert_exporter": "python",
   "pygments_lexer": "ipython3",
   "version": "3.7.6"
  }
 },
 "nbformat": 4,
 "nbformat_minor": 4
}
