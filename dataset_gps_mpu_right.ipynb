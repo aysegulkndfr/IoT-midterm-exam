{
 "cells": [
  {
   "cell_type": "code",
   "execution_count": 1,
   "metadata": {},
   "outputs": [],
   "source": [
    "import pandas as pd\n",
    "\n",
    "df = pd.read_csv('dataset_gps_mpu_right.csv')\n",
    "\n",
    "df = df[['timestamp', 'acc_x_dashboard', 'acc_y_dashboard', 'acc_z_dashboard', \n",
    " 'gyro_x_dashboard', 'gyro_y_dashboard', 'gyro_z_dashboard', 'timestamp_gps',\n",
    " 'latitude', 'longitude']]\n",
    "\n",
    "df.to_csv('modified_dataset_gps_mpu_right.csv', index=False)"
   ]
  },
  {
   "cell_type": "code",
   "execution_count": 2,
   "metadata": {},
   "outputs": [
    {
     "name": "stdout",
     "output_type": "stream",
     "text": [
      "      timestamp  acc_x_dashboard  acc_y_dashboard  acc_z_dashboard  \\\n",
      "0  1.577219e+09         0.314897         0.187227         9.863572   \n",
      "1  1.577219e+09         0.316094         0.175256         9.846813   \n",
      "2  1.577219e+09         0.278984         0.199198         9.892303   \n",
      "3  1.577219e+09         0.295744         0.194409         9.806111   \n",
      "4  1.577219e+09         0.322080         0.203986         9.877937   \n",
      "5  1.577219e+09         0.322080         0.134554         9.889908   \n",
      "6  1.577219e+09         0.312503         0.180044         9.830053   \n",
      "7  1.577219e+09         0.295744         0.148919         9.885120   \n",
      "8  1.577219e+09         0.262225         0.156102         9.873149   \n",
      "9  1.577219e+09         0.300532         0.163285         9.851601   \n",
      "\n",
      "   gyro_x_dashboard  gyro_y_dashboard  gyro_z_dashboard  timestamp_gps  \\\n",
      "0          0.221062         -0.133324          0.155640   1.577219e+09   \n",
      "1         -0.038338          0.080299          0.003052   1.577219e+09   \n",
      "2          0.129509          0.049782          0.216675   1.577219e+09   \n",
      "3          0.129509          0.141335         -0.088501   1.577219e+09   \n",
      "4          0.221062         -0.072289          0.033569   1.577219e+09   \n",
      "5          0.190544          0.080299         -0.119019   1.577219e+09   \n",
      "6          0.221062          0.049782          0.125122   1.577219e+09   \n",
      "7         -0.206184          0.019264          0.003052   1.577219e+09   \n",
      "8         -0.206184          0.293922          0.033569   1.577219e+09   \n",
      "9          0.007439          0.354958          0.094604   1.577219e+09   \n",
      "\n",
      "    latitude  longitude  \n",
      "0 -27.717841 -51.098865  \n",
      "1 -27.717841 -51.098865  \n",
      "2 -27.717841 -51.098865  \n",
      "3 -27.717841 -51.098865  \n",
      "4 -27.717841 -51.098865  \n",
      "5 -27.717841 -51.098865  \n",
      "6 -27.717841 -51.098865  \n",
      "7 -27.717841 -51.098865  \n",
      "8 -27.717841 -51.098865  \n",
      "9 -27.717841 -51.098865  \n"
     ]
    }
   ],
   "source": [
    "df = pd.read_csv('modified_dataset_gps_mpu_right.csv')\n",
    "\n",
    "print(df.head(10))"
   ]
  },
  {
   "cell_type": "code",
   "execution_count": 3,
   "metadata": {},
   "outputs": [],
   "source": [
    "import numpy as np\n",
    "from pykalman import KalmanFilter\n",
    "\n",
    "df = pd.read_csv('modified_dataset_gps_mpu_right.csv')\n",
    "\n",
    "kf = KalmanFilter(initial_state_mean=[0,0,0,0,0,0,0,0,0,0],\n",
    " initial_state_covariance=np.eye(10),\n",
    " transition_matrices=np.eye(10),\n",
    " observation_matrices=np.eye(10),\n",
    " observation_covariance=np.eye(10),\n",
    " transition_covariance=np.eye(10))\n",
    "\n",
    "filtered_state_means, filtered_state_covariances = kf.filter(df.values)\n",
    "\n",
    "latitude = filtered_state_means[:, 8]\n",
    "longitude = filtered_state_means[:, 9]\n",
    "\n",
    "result_df = pd.DataFrame({'latitude': latitude, 'longitude': longitude})\n",
    "\n",
    "result_df.to_csv('result_gps_mpu_right.csv', index=False)"
   ]
  },
  {
   "cell_type": "code",
   "execution_count": 4,
   "metadata": {},
   "outputs": [
    {
     "name": "stdout",
     "output_type": "stream",
     "text": [
      "    latitude  longitude\n",
      "0 -13.858920 -25.549433\n",
      "1 -22.174273 -40.879092\n",
      "2 -25.585699 -47.168183\n",
      "3 -26.902610 -49.595958\n",
      "4 -27.406405 -50.524721\n",
      "5 -27.598880 -50.879557\n",
      "6 -27.672402 -51.015097\n",
      "7 -27.700485 -51.066869\n",
      "8 -27.711211 -51.086644\n",
      "9 -27.715309 -51.094197\n"
     ]
    }
   ],
   "source": [
    "df = pd.read_csv('result_gps_mpu_right.csv')\n",
    "\n",
    "print(df.head(10))"
   ]
  },
  {
   "cell_type": "code",
   "execution_count": null,
   "metadata": {},
   "outputs": [],
   "source": []
  }
 ],
 "metadata": {
  "kernelspec": {
   "display_name": "Python 3",
   "language": "python",
   "name": "python3"
  },
  "language_info": {
   "codemirror_mode": {
    "name": "ipython",
    "version": 3
   },
   "file_extension": ".py",
   "mimetype": "text/x-python",
   "name": "python",
   "nbconvert_exporter": "python",
   "pygments_lexer": "ipython3",
   "version": "3.7.6"
  }
 },
 "nbformat": 4,
 "nbformat_minor": 4
}
