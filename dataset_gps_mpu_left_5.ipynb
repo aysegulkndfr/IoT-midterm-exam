{
 "cells": [
  {
   "cell_type": "code",
   "execution_count": 1,
   "metadata": {},
   "outputs": [],
   "source": [
    "import pandas as pd\n",
    "\n",
    "df = pd.read_csv('dataset_gps_mpu_left_5.csv')\n",
    "\n",
    "df = df[['timestamp', 'acc_x_dashboard', 'acc_y_dashboard', 'acc_z_dashboard', \n",
    " 'gyro_x_dashboard', 'gyro_y_dashboard', 'gyro_z_dashboard', 'timestamp_gps',\n",
    " 'latitude', 'longitude']]\n",
    "\n",
    "df.to_csv('modified_dataset_gps_mpu_left_5.csv', index=False)"
   ]
  },
  {
   "cell_type": "code",
   "execution_count": 2,
   "metadata": {},
   "outputs": [
    {
     "name": "stdout",
     "output_type": "stream",
     "text": [
      "      timestamp  acc_x_dashboard  acc_y_dashboard  acc_z_dashboard  \\\n",
      "0  1.577309e+09         0.002753        -0.001018         9.844778   \n",
      "1  1.577309e+09        -0.009218         0.003771         9.760981   \n",
      "2  1.577309e+09         0.014724         0.021727         9.787317   \n",
      "3  1.577309e+09         0.021907         0.013348         9.770557   \n",
      "4  1.577309e+09         0.050637         0.054049         9.770557   \n",
      "5  1.577309e+09         0.024301         0.034895         9.751404   \n",
      "6  1.577309e+09        -0.016400         0.037290         9.787317   \n",
      "7  1.577309e+09         0.009936        -0.014186         9.759784   \n",
      "8  1.577309e+09         0.033878        -0.005806         9.751404   \n",
      "9  1.577309e+09         0.000359        -0.003412         9.796894   \n",
      "\n",
      "   gyro_x_dashboard  gyro_y_dashboard  gyro_z_dashboard  timestamp_gps  \\\n",
      "0         -0.040627          0.146484         -0.090981   1.577309e+09   \n",
      "1          0.203514         -0.158691         -0.152016   1.577309e+09   \n",
      "2          0.035667          0.131226         -0.197792   1.577309e+09   \n",
      "3         -0.040627          0.024414         -0.090981   1.577309e+09   \n",
      "4         -0.010109         -0.097656         -0.396156   1.577309e+09   \n",
      "5          0.020409         -0.067139          0.000572   1.577309e+09   \n",
      "6          0.111961          0.085449          0.092125   1.577309e+09   \n",
      "7          0.081444          0.192261         -0.121498   1.577309e+09   \n",
      "8         -0.071144         -0.006104         -0.121498   1.577309e+09   \n",
      "9          0.020409         -0.067139         -0.060463   1.577309e+09   \n",
      "\n",
      "    latitude  longitude  \n",
      "0 -27.717733 -51.099063  \n",
      "1 -27.717733 -51.099063  \n",
      "2 -27.717733 -51.099063  \n",
      "3 -27.717733 -51.099063  \n",
      "4 -27.717733 -51.099063  \n",
      "5 -27.717733 -51.099063  \n",
      "6 -27.717733 -51.099063  \n",
      "7 -27.717733 -51.099063  \n",
      "8 -27.717733 -51.099063  \n",
      "9 -27.717733 -51.099063  \n"
     ]
    }
   ],
   "source": [
    "df = pd.read_csv('modified_dataset_gps_mpu_left_5.csv')\n",
    "\n",
    "print(df.head(10))"
   ]
  },
  {
   "cell_type": "code",
   "execution_count": 3,
   "metadata": {},
   "outputs": [],
   "source": [
    "import numpy as np\n",
    "from pykalman import KalmanFilter\n",
    "\n",
    "df = pd.read_csv('modified_dataset_gps_mpu_left_5.csv')\n",
    "\n",
    "kf = KalmanFilter(initial_state_mean=[0,0,0,0,0,0,0,0,0,0],\n",
    " initial_state_covariance=np.eye(10),\n",
    " transition_matrices=np.eye(10),\n",
    " observation_matrices=np.eye(10),\n",
    " observation_covariance=np.eye(10),\n",
    " transition_covariance=np.eye(10))\n",
    "\n",
    "filtered_state_means, filtered_state_covariances = kf.filter(df.values)\n",
    "\n",
    "latitude = filtered_state_means[:, 8]\n",
    "longitude = filtered_state_means[:, 9]\n",
    "\n",
    "result_df = pd.DataFrame({'latitude': latitude, 'longitude': longitude})\n",
    "\n",
    "result_df.to_csv('result_gps_mpu_left_5.csv', index=False)"
   ]
  },
  {
   "cell_type": "code",
   "execution_count": 4,
   "metadata": {},
   "outputs": [
    {
     "name": "stdout",
     "output_type": "stream",
     "text": [
      "    latitude  longitude\n",
      "0 -13.858867 -25.549532\n",
      "1 -22.174187 -40.879251\n",
      "2 -25.585600 -47.168366\n",
      "3 -26.902506 -49.596150\n",
      "4 -27.406298 -50.524917\n",
      "5 -27.598773 -50.879754\n",
      "6 -27.672294 -51.015294\n",
      "7 -27.700377 -51.067066\n",
      "8 -27.711104 -51.086842\n",
      "9 -27.715201 -51.094395\n"
     ]
    }
   ],
   "source": [
    "df = pd.read_csv('result_gps_mpu_left_5.csv')\n",
    "\n",
    "print(df.head(10))"
   ]
  },
  {
   "cell_type": "code",
   "execution_count": null,
   "metadata": {},
   "outputs": [],
   "source": []
  }
 ],
 "metadata": {
  "kernelspec": {
   "display_name": "Python 3",
   "language": "python",
   "name": "python3"
  },
  "language_info": {
   "codemirror_mode": {
    "name": "ipython",
    "version": 3
   },
   "file_extension": ".py",
   "mimetype": "text/x-python",
   "name": "python",
   "nbconvert_exporter": "python",
   "pygments_lexer": "ipython3",
   "version": "3.7.6"
  }
 },
 "nbformat": 4,
 "nbformat_minor": 4
}
