{
 "cells": [
  {
   "cell_type": "code",
   "execution_count": 1,
   "metadata": {},
   "outputs": [],
   "source": [
    "import pandas as pd\n",
    "\n",
    "df = pd.read_csv('dataset_gps_mpu_right_6.csv')\n",
    "\n",
    "df = df[['timestamp', 'acc_x_dashboard', 'acc_y_dashboard', 'acc_z_dashboard', \n",
    " 'gyro_x_dashboard', 'gyro_y_dashboard', 'gyro_z_dashboard', 'timestamp_gps',\n",
    " 'latitude', 'longitude']]\n",
    "\n",
    "df.to_csv('modified_dataset_gps_mpu_right_6.csv', index=False)"
   ]
  },
  {
   "cell_type": "code",
   "execution_count": 2,
   "metadata": {},
   "outputs": [
    {
     "name": "stdout",
     "output_type": "stream",
     "text": [
      "      timestamp  acc_x_dashboard  acc_y_dashboard  acc_z_dashboard  \\\n",
      "0  1.577310e+09        -0.020263         0.047942         9.866563   \n",
      "1  1.577310e+09         0.025227         0.009635         9.833045   \n",
      "2  1.577310e+09        -0.029840        -0.011913         9.749248   \n",
      "3  1.577310e+09         0.008467         0.026395         9.732488   \n",
      "4  1.577310e+09        -0.003504        -0.043037         9.768401   \n",
      "5  1.577310e+09        -0.056176         0.028789         9.854592   \n",
      "6  1.577310e+09        -0.051388        -0.107681         9.910856   \n",
      "7  1.577310e+09        -0.077724         0.241873        10.084436   \n",
      "8  1.577310e+09         0.065928        -0.165142         9.706152   \n",
      "9  1.577310e+09        -0.076527        -0.011913        10.140700   \n",
      "\n",
      "   gyro_x_dashboard  gyro_y_dashboard  gyro_z_dashboard  timestamp_gps  \\\n",
      "0         -0.054150         -0.165986          0.252514   1.577310e+09   \n",
      "1         -0.054150          0.169708          0.008374   1.577310e+09   \n",
      "2          0.052661          0.032378          0.130444   1.577310e+09   \n",
      "3         -0.023633          0.230743          0.038891   1.577310e+09   \n",
      "4          0.098438          0.078155          0.191479   1.577310e+09   \n",
      "5          0.006885          0.322295          0.008374   1.577310e+09   \n",
      "6         -0.389843         -0.074433         -0.006885   1.577310e+09   \n",
      "7          0.128955         -0.227021          0.008374   1.577310e+09   \n",
      "8         -0.145703         -0.165986         -0.266284   1.577310e+09   \n",
      "9         -0.054150         -0.135468         -0.113697   1.577310e+09   \n",
      "\n",
      "    latitude  longitude  \n",
      "0 -27.717738 -51.099078  \n",
      "1 -27.717738 -51.099078  \n",
      "2 -27.717738 -51.099078  \n",
      "3 -27.717738 -51.099078  \n",
      "4 -27.717738 -51.099078  \n",
      "5 -27.717738 -51.099078  \n",
      "6 -27.717738 -51.099078  \n",
      "7 -27.717738 -51.099078  \n",
      "8 -27.717738 -51.099078  \n",
      "9 -27.717738 -51.099078  \n"
     ]
    }
   ],
   "source": [
    "df = pd.read_csv('modified_dataset_gps_mpu_right_6.csv')\n",
    "\n",
    "print(df.head(10))"
   ]
  },
  {
   "cell_type": "code",
   "execution_count": 3,
   "metadata": {},
   "outputs": [],
   "source": [
    "import numpy as np\n",
    "from pykalman import KalmanFilter\n",
    "\n",
    "df = pd.read_csv('modified_dataset_gps_mpu_right_6.csv')\n",
    "\n",
    "kf = KalmanFilter(initial_state_mean=[0,0,0,0,0,0,0,0,0,0],\n",
    " initial_state_covariance=np.eye(10),\n",
    " transition_matrices=np.eye(10),\n",
    " observation_matrices=np.eye(10),\n",
    " observation_covariance=np.eye(10),\n",
    " transition_covariance=np.eye(10))\n",
    "\n",
    "filtered_state_means, filtered_state_covariances = kf.filter(df.values)\n",
    "\n",
    "latitude = filtered_state_means[:, 8]\n",
    "longitude = filtered_state_means[:, 9]\n",
    "\n",
    "result_df = pd.DataFrame({'latitude': latitude, 'longitude': longitude})\n",
    "\n",
    "result_df.to_csv('result_gps_mpu_right_6.csv', index=False)"
   ]
  },
  {
   "cell_type": "code",
   "execution_count": 4,
   "metadata": {},
   "outputs": [
    {
     "name": "stdout",
     "output_type": "stream",
     "text": [
      "    latitude  longitude\n",
      "0 -13.858869 -25.549539\n",
      "1 -22.174190 -40.879263\n",
      "2 -25.585604 -47.168380\n",
      "3 -26.902510 -49.596164\n",
      "4 -27.406303 -50.524931\n",
      "5 -27.598778 -50.879769\n",
      "6 -27.672299 -51.015309\n",
      "7 -27.700382 -51.067081\n",
      "8 -27.711108 -51.086856\n",
      "9 -27.715206 -51.094410\n"
     ]
    }
   ],
   "source": [
    "df = pd.read_csv('result_gps_mpu_right_6.csv')\n",
    "\n",
    "print(df.head(10))"
   ]
  },
  {
   "cell_type": "code",
   "execution_count": null,
   "metadata": {},
   "outputs": [],
   "source": []
  }
 ],
 "metadata": {
  "kernelspec": {
   "display_name": "Python 3",
   "language": "python",
   "name": "python3"
  },
  "language_info": {
   "codemirror_mode": {
    "name": "ipython",
    "version": 3
   },
   "file_extension": ".py",
   "mimetype": "text/x-python",
   "name": "python",
   "nbconvert_exporter": "python",
   "pygments_lexer": "ipython3",
   "version": "3.7.6"
  }
 },
 "nbformat": 4,
 "nbformat_minor": 4
}
