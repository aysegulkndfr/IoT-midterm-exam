{
 "cells": [
  {
   "cell_type": "code",
   "execution_count": 5,
   "metadata": {},
   "outputs": [],
   "source": [
    "import pandas as pd\n",
    "\n",
    "df = pd.read_csv('dataset_gps_mpu_left_2.csv')\n",
    "\n",
    "df = df[['timestamp', 'acc_x_dashboard', 'acc_y_dashboard', 'acc_z_dashboard', \n",
    " 'gyro_x_dashboard', 'gyro_y_dashboard', 'gyro_z_dashboard', 'timestamp_gps',\n",
    " 'latitude', 'longitude']]\n",
    "\n",
    "df.to_csv('modified_dataset_gps_mpu_left_2.csv', index=False)\n"
   ]
  },
  {
   "cell_type": "code",
   "execution_count": 6,
   "metadata": {},
   "outputs": [
    {
     "name": "stdout",
     "output_type": "stream",
     "text": [
      "      timestamp  acc_x_dashboard  acc_y_dashboard  acc_z_dashboard  \\\n",
      "0  1.577221e+09        -0.029431        -0.019621         9.781015   \n",
      "1  1.577221e+09        -0.039008         0.009110         9.819322   \n",
      "2  1.577221e+09         0.010073         0.005518         9.777423   \n",
      "3  1.577221e+09         0.020847         0.028263         9.785803   \n",
      "4  1.577221e+09        -0.003095        -0.017227         9.800168   \n",
      "5  1.577221e+09         0.006482         0.011504         9.850446   \n",
      "6  1.577221e+09         0.001693         0.001927         9.753481   \n",
      "7  1.577221e+09        -0.024643        -0.002861         9.807351   \n",
      "8  1.577221e+09        -0.029431         0.004321         9.749890   \n",
      "9  1.577221e+09         0.011270         0.010307         9.767846   \n",
      "\n",
      "   gyro_x_dashboard  gyro_y_dashboard  gyro_z_dashboard  timestamp_gps  \\\n",
      "0         -0.122070         -0.006327         -0.112208   1.577221e+09   \n",
      "1         -0.030518          0.115743         -0.051173   1.577221e+09   \n",
      "2         -0.122070          0.100485         -0.020655   1.577221e+09   \n",
      "3          0.061035          0.207296         -0.112208   1.577221e+09   \n",
      "4         -0.091553          0.146261         -0.112208   1.577221e+09   \n",
      "5          0.000000         -0.342020         -0.081690   1.577221e+09   \n",
      "6         -0.045776         -0.189432          0.040380   1.577221e+09   \n",
      "7          0.030518         -0.067362         -0.020655   1.577221e+09   \n",
      "8         -0.183105          0.115743         -0.051173   1.577221e+09   \n",
      "9         -0.030518         -0.052103         -0.020655   1.577221e+09   \n",
      "\n",
      "    latitude  longitude  \n",
      "0 -27.717712 -51.099027  \n",
      "1 -27.717712 -51.099027  \n",
      "2 -27.717712 -51.099027  \n",
      "3 -27.717712 -51.099027  \n",
      "4 -27.717712 -51.099027  \n",
      "5 -27.717712 -51.099027  \n",
      "6 -27.717712 -51.099027  \n",
      "7 -27.717712 -51.099027  \n",
      "8 -27.717712 -51.099027  \n",
      "9 -27.717712 -51.099027  \n"
     ]
    }
   ],
   "source": [
    "df = pd.read_csv('modified_dataset_gps_mpu_left_2.csv')\n",
    "\n",
    "print(df.head(10))"
   ]
  },
  {
   "cell_type": "code",
   "execution_count": 7,
   "metadata": {},
   "outputs": [],
   "source": [
    "import numpy as np\n",
    "from pykalman import KalmanFilter\n",
    "\n",
    "df = pd.read_csv('modified_dataset_gps_mpu_left_2.csv')\n",
    "\n",
    "kf = KalmanFilter(initial_state_mean=[0,0,0,0,0,0,0,0,0,0],\n",
    " initial_state_covariance=np.eye(10),\n",
    " transition_matrices=np.eye(10),\n",
    " observation_matrices=np.eye(10),\n",
    " observation_covariance=np.eye(10),\n",
    " transition_covariance=np.eye(10))\n",
    "\n",
    "filtered_state_means, filtered_state_covariances = kf.filter(df.values)\n",
    "\n",
    "latitude = filtered_state_means[:, 8]\n",
    "longitude = filtered_state_means[:, 9]\n",
    "\n",
    "result_df = pd.DataFrame({'latitude': latitude, 'longitude': longitude})\n",
    "\n",
    "result_df.to_csv('result_gps_mpu_left_2.csv', index=False)"
   ]
  },
  {
   "cell_type": "code",
   "execution_count": 8,
   "metadata": {},
   "outputs": [
    {
     "name": "stdout",
     "output_type": "stream",
     "text": [
      "    latitude  longitude\n",
      "0 -13.858856 -25.549514\n",
      "1 -22.174170 -40.879222\n",
      "2 -25.585581 -47.168333\n",
      "3 -26.902485 -49.596115\n",
      "4 -27.406277 -50.524881\n",
      "5 -27.598752 -50.879718\n",
      "6 -27.672273 -51.015258\n",
      "7 -27.700356 -51.067030\n",
      "8 -27.711083 -51.086805\n",
      "9 -27.715180 -51.094359\n"
     ]
    }
   ],
   "source": [
    "df = pd.read_csv('result_gps_mpu_left_2.csv')\n",
    "\n",
    "print(df.head(10))"
   ]
  },
  {
   "cell_type": "code",
   "execution_count": null,
   "metadata": {},
   "outputs": [],
   "source": []
  }
 ],
 "metadata": {
  "kernelspec": {
   "display_name": "Python 3",
   "language": "python",
   "name": "python3"
  },
  "language_info": {
   "codemirror_mode": {
    "name": "ipython",
    "version": 3
   },
   "file_extension": ".py",
   "mimetype": "text/x-python",
   "name": "python",
   "nbconvert_exporter": "python",
   "pygments_lexer": "ipython3",
   "version": "3.7.6"
  }
 },
 "nbformat": 4,
 "nbformat_minor": 4
}
