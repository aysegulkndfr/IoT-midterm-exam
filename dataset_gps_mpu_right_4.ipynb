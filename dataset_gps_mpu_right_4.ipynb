{
 "cells": [
  {
   "cell_type": "code",
   "execution_count": 1,
   "metadata": {},
   "outputs": [],
   "source": [
    "import pandas as pd\n",
    "\n",
    "df = pd.read_csv('dataset_gps_mpu_right_4.csv')\n",
    "\n",
    "df = df[['timestamp', 'acc_x_dashboard', 'acc_y_dashboard', 'acc_z_dashboard', \n",
    " 'gyro_x_dashboard', 'gyro_y_dashboard', 'gyro_z_dashboard', 'timestamp_gps',\n",
    " 'latitude', 'longitude']]\n",
    "\n",
    "df.to_csv('modified_dataset_gps_mpu_right_4.csv', index=False)"
   ]
  },
  {
   "cell_type": "code",
   "execution_count": 2,
   "metadata": {},
   "outputs": [
    {
     "name": "stdout",
     "output_type": "stream",
     "text": [
      "      timestamp  acc_x_dashboard  acc_y_dashboard  acc_z_dashboard  \\\n",
      "0  1.577307e+09         0.305086        -0.166689         9.611639   \n",
      "1  1.577307e+09         0.574433         0.035621         9.823526   \n",
      "2  1.577307e+09         0.363743         0.703603        10.206598   \n",
      "3  1.577307e+09         0.179390         0.464183        10.043793   \n",
      "4  1.577307e+09         0.488242        -0.310341         9.509886   \n",
      "5  1.577307e+09         0.363743         0.701209        10.204204   \n",
      "6  1.577307e+09         0.071651         0.864015        10.053370   \n",
      "7  1.577307e+09         0.291917        -0.072118         9.689451   \n",
      "8  1.577307e+09         0.563659        -0.184646         9.667903   \n",
      "9  1.577307e+09         0.188967         0.660508        10.168291   \n",
      "\n",
      "   gyro_x_dashboard  gyro_y_dashboard  gyro_z_dashboard  timestamp_gps  \\\n",
      "0         -0.236883          0.248607         -0.001861   1.577307e+09   \n",
      "1          0.465021          0.141795          0.043916   1.577307e+09   \n",
      "2         -0.145331         -0.865285          0.074433   1.577307e+09   \n",
      "3         -0.572577          0.263865          0.013398   1.577307e+09   \n",
      "4         -0.023260          0.294383          0.059174   1.577307e+09   \n",
      "5          0.434503         -0.163381          0.043916   1.577307e+09   \n",
      "6          0.007257         -0.529592         -0.230743   1.577307e+09   \n",
      "7         -0.419989          0.111278         -0.108672   1.577307e+09   \n",
      "8          0.281915          0.172313         -0.001861   1.577307e+09   \n",
      "9          0.098810         -0.315969          0.104951   1.577307e+09   \n",
      "\n",
      "    latitude  longitude  \n",
      "0 -27.717857 -51.098897  \n",
      "1 -27.717857 -51.098897  \n",
      "2 -27.717857 -51.098897  \n",
      "3 -27.717857 -51.098897  \n",
      "4 -27.717857 -51.098897  \n",
      "5 -27.717857 -51.098897  \n",
      "6 -27.717857 -51.098897  \n",
      "7 -27.717857 -51.098897  \n",
      "8 -27.717857 -51.098897  \n",
      "9 -27.717857 -51.098897  \n"
     ]
    }
   ],
   "source": [
    "df = pd.read_csv('modified_dataset_gps_mpu_right_4.csv')\n",
    "\n",
    "print(df.head(10))"
   ]
  },
  {
   "cell_type": "code",
   "execution_count": 3,
   "metadata": {},
   "outputs": [],
   "source": [
    "import numpy as np\n",
    "from pykalman import KalmanFilter\n",
    "\n",
    "df = pd.read_csv('modified_dataset_gps_mpu_right_4.csv')\n",
    "\n",
    "kf = KalmanFilter(initial_state_mean=[0,0,0,0,0,0,0,0,0,0],\n",
    " initial_state_covariance=np.eye(10),\n",
    " transition_matrices=np.eye(10),\n",
    " observation_matrices=np.eye(10),\n",
    " observation_covariance=np.eye(10),\n",
    " transition_covariance=np.eye(10))\n",
    "\n",
    "filtered_state_means, filtered_state_covariances = kf.filter(df.values)\n",
    "\n",
    "latitude = filtered_state_means[:, 8]\n",
    "longitude = filtered_state_means[:, 9]\n",
    "\n",
    "result_df = pd.DataFrame({'latitude': latitude, 'longitude': longitude})\n",
    "\n",
    "result_df.to_csv('result_gps_mpu_right_4.csv', index=False)"
   ]
  },
  {
   "cell_type": "code",
   "execution_count": 4,
   "metadata": {},
   "outputs": [
    {
     "name": "stdout",
     "output_type": "stream",
     "text": [
      "    latitude  longitude\n",
      "0 -13.858929 -25.549448\n",
      "1 -22.174286 -40.879117\n",
      "2 -25.585714 -47.168212\n",
      "3 -26.902626 -49.595988\n",
      "4 -27.406421 -50.524752\n",
      "5 -27.598896 -50.879588\n",
      "6 -27.672418 -51.015128\n",
      "7 -27.700501 -51.066900\n",
      "8 -27.711227 -51.086675\n",
      "9 -27.715325 -51.094229\n"
     ]
    }
   ],
   "source": [
    "df = pd.read_csv('result_gps_mpu_right_4.csv')\n",
    "\n",
    "print(df.head(10))"
   ]
  },
  {
   "cell_type": "code",
   "execution_count": null,
   "metadata": {},
   "outputs": [],
   "source": []
  }
 ],
 "metadata": {
  "kernelspec": {
   "display_name": "Python 3",
   "language": "python",
   "name": "python3"
  },
  "language_info": {
   "codemirror_mode": {
    "name": "ipython",
    "version": 3
   },
   "file_extension": ".py",
   "mimetype": "text/x-python",
   "name": "python",
   "nbconvert_exporter": "python",
   "pygments_lexer": "ipython3",
   "version": "3.7.6"
  }
 },
 "nbformat": 4,
 "nbformat_minor": 4
}
