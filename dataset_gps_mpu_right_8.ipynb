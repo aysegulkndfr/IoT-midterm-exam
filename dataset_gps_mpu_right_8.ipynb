{
 "cells": [
  {
   "cell_type": "code",
   "execution_count": 1,
   "metadata": {},
   "outputs": [],
   "source": [
    "import pandas as pd\n",
    "\n",
    "df = pd.read_csv('dataset_gps_mpu_right_8.csv')\n",
    "\n",
    "df = df[['timestamp', 'acc_x_dashboard', 'acc_y_dashboard', 'acc_z_dashboard', \n",
    " 'gyro_x_dashboard', 'gyro_y_dashboard', 'gyro_z_dashboard', 'timestamp_gps',\n",
    " 'latitude', 'longitude']]\n",
    "\n",
    "df.to_csv('modified_dataset_gps_mpu_right_8.csv', index=False)"
   ]
  },
  {
   "cell_type": "code",
   "execution_count": 2,
   "metadata": {},
   "outputs": [
    {
     "name": "stdout",
     "output_type": "stream",
     "text": [
      "      timestamp  acc_x_dashboard  acc_y_dashboard  acc_z_dashboard  \\\n",
      "0  1.577397e+09         0.053607         0.015475         9.815001   \n",
      "1  1.577397e+09         0.046424         0.022657         9.829366   \n",
      "2  1.577397e+09         0.009314        -0.024030         9.783876   \n",
      "3  1.577397e+09         0.015300         0.051388         9.826972   \n",
      "4  1.577397e+09        -0.039767        -0.003679         9.791058   \n",
      "5  1.577397e+09         0.011708        -0.013256         9.843731   \n",
      "6  1.577397e+09        -0.025402        -0.010862         9.783876   \n",
      "7  1.577397e+09        -0.023008        -0.018044         9.807818   \n",
      "8  1.577397e+09        -0.006248         0.027446         9.848519   \n",
      "9  1.577397e+09         0.003329        -0.006073         9.805424   \n",
      "\n",
      "   gyro_x_dashboard  gyro_y_dashboard  gyro_z_dashboard  timestamp_gps  \\\n",
      "0         -0.051545         -0.025307          0.126722   1.577397e+09   \n",
      "1          0.131561         -0.177895         -0.117418   1.577397e+09   \n",
      "2          0.070525          0.157798          0.111464   1.577397e+09   \n",
      "3          0.070525          0.279869         -0.056383   1.577397e+09   \n",
      "4         -0.051545          0.096763         -0.300524   1.577397e+09   \n",
      "5          0.070525          0.127281         -0.193712   1.577397e+09   \n",
      "6         -0.112580          0.127281         -0.086901   1.577397e+09   \n",
      "7          0.070525          0.310386         -0.178453   1.577397e+09   \n",
      "8         -0.204133          0.127281          0.065687   1.577397e+09   \n",
      "9         -0.173615          0.096763         -0.056383   1.577397e+09   \n",
      "\n",
      "   latitude  longitude  \n",
      "0 -27.71775 -51.099013  \n",
      "1 -27.71775 -51.099013  \n",
      "2 -27.71775 -51.099013  \n",
      "3 -27.71775 -51.099013  \n",
      "4 -27.71775 -51.099013  \n",
      "5 -27.71775 -51.099013  \n",
      "6 -27.71775 -51.099013  \n",
      "7 -27.71775 -51.099013  \n",
      "8 -27.71775 -51.099013  \n",
      "9 -27.71775 -51.099013  \n"
     ]
    }
   ],
   "source": [
    "df = pd.read_csv('modified_dataset_gps_mpu_right_8.csv')\n",
    "\n",
    "print(df.head(10))"
   ]
  },
  {
   "cell_type": "code",
   "execution_count": 3,
   "metadata": {},
   "outputs": [],
   "source": [
    "import numpy as np\n",
    "from pykalman import KalmanFilter\n",
    "\n",
    "df = pd.read_csv('modified_dataset_gps_mpu_right_8.csv')\n",
    "\n",
    "kf = KalmanFilter(initial_state_mean=[0,0,0,0,0,0,0,0,0,0],\n",
    " initial_state_covariance=np.eye(10),\n",
    " transition_matrices=np.eye(10),\n",
    " observation_matrices=np.eye(10),\n",
    " observation_covariance=np.eye(10),\n",
    " transition_covariance=np.eye(10))\n",
    "\n",
    "filtered_state_means, filtered_state_covariances = kf.filter(df.values)\n",
    "\n",
    "latitude = filtered_state_means[:, 8]\n",
    "longitude = filtered_state_means[:, 9]\n",
    "\n",
    "result_df = pd.DataFrame({'latitude': latitude, 'longitude': longitude})\n",
    "\n",
    "result_df.to_csv('result_gps_mpu_right_8.csv', index=False)"
   ]
  },
  {
   "cell_type": "code",
   "execution_count": 4,
   "metadata": {},
   "outputs": [
    {
     "name": "stdout",
     "output_type": "stream",
     "text": [
      "    latitude  longitude\n",
      "0 -13.858875 -25.549506\n",
      "1 -22.174200 -40.879210\n",
      "2 -25.585615 -47.168319\n",
      "3 -26.902522 -49.596100\n",
      "4 -27.406314 -50.524866\n",
      "5 -27.598790 -50.879703\n",
      "6 -27.672311 -51.015244\n",
      "7 -27.700394 -51.067016\n",
      "8 -27.711120 -51.086791\n",
      "9 -27.715218 -51.094344\n"
     ]
    }
   ],
   "source": [
    "df = pd.read_csv('result_gps_mpu_right_8.csv')\n",
    "\n",
    "print(df.head(10))"
   ]
  },
  {
   "cell_type": "code",
   "execution_count": null,
   "metadata": {},
   "outputs": [],
   "source": []
  }
 ],
 "metadata": {
  "kernelspec": {
   "display_name": "Python 3",
   "language": "python",
   "name": "python3"
  },
  "language_info": {
   "codemirror_mode": {
    "name": "ipython",
    "version": 3
   },
   "file_extension": ".py",
   "mimetype": "text/x-python",
   "name": "python",
   "nbconvert_exporter": "python",
   "pygments_lexer": "ipython3",
   "version": "3.7.6"
  }
 },
 "nbformat": 4,
 "nbformat_minor": 4
}
