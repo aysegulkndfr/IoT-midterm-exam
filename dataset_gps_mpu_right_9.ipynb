{
 "cells": [
  {
   "cell_type": "code",
   "execution_count": 1,
   "metadata": {},
   "outputs": [],
   "source": [
    "import pandas as pd\n",
    "\n",
    "df = pd.read_csv('dataset_gps_mpu_right_9.csv')\n",
    "\n",
    "df = df[['timestamp', 'acc_x_dashboard', 'acc_y_dashboard', 'acc_z_dashboard', \n",
    " 'gyro_x_dashboard', 'gyro_y_dashboard', 'gyro_z_dashboard', 'timestamp_gps',\n",
    " 'latitude', 'longitude']]\n",
    "\n",
    "df.to_csv('modified_dataset_gps_mpu_right_9.csv', index=False)"
   ]
  },
  {
   "cell_type": "code",
   "execution_count": 2,
   "metadata": {},
   "outputs": [
    {
     "name": "stdout",
     "output_type": "stream",
     "text": [
      "      timestamp  acc_x_dashboard  acc_y_dashboard  acc_z_dashboard  \\\n",
      "0  1.577399e+09        -0.072001         0.008759         9.747262   \n",
      "1  1.577399e+09        -0.043271         0.061432         9.754445   \n",
      "2  1.577399e+09        -0.004964         0.056643         9.807117   \n",
      "3  1.577399e+09         0.009402        -0.003212         9.814300   \n",
      "4  1.577399e+09        -0.028906         0.013548         9.753248   \n",
      "5  1.577399e+09        -0.000175         0.013548         9.744868   \n",
      "6  1.577399e+09        -0.050453        -0.000818         9.809511   \n",
      "7  1.577399e+09        -0.016935        -0.012789         9.816694   \n",
      "8  1.577399e+09        -0.040877         0.025519         9.807117   \n",
      "9  1.577399e+09        -0.000175        -0.003212         9.766416   \n",
      "\n",
      "   gyro_x_dashboard  gyro_y_dashboard  gyro_z_dashboard  timestamp_gps  \\\n",
      "0         -0.043357          0.003349          0.038705   1.577399e+09   \n",
      "1         -0.104392          0.003349         -0.113883   1.577399e+09   \n",
      "2          0.139748         -0.027168          0.069223   1.577399e+09   \n",
      "3          0.109231          0.155937         -0.113883   1.577399e+09   \n",
      "4          0.048195         -0.057686          0.206552   1.577399e+09   \n",
      "5          0.139748          0.094902          0.130258   1.577399e+09   \n",
      "6         -0.043357          0.155937          0.008188   1.577399e+09   \n",
      "7         -0.287498          0.033867         -0.174918   1.577399e+09   \n",
      "8          0.109231          0.186455          0.252328   1.577399e+09   \n",
      "9          0.017678         -0.027168          0.069223   1.577399e+09   \n",
      "\n",
      "    latitude  longitude  \n",
      "0 -27.717758 -51.098993  \n",
      "1 -27.717758 -51.098993  \n",
      "2 -27.717758 -51.098993  \n",
      "3 -27.717758 -51.098993  \n",
      "4 -27.717758 -51.098993  \n",
      "5 -27.717758 -51.098993  \n",
      "6 -27.717758 -51.098993  \n",
      "7 -27.717758 -51.098993  \n",
      "8 -27.717758 -51.098993  \n",
      "9 -27.717758 -51.098993  \n"
     ]
    }
   ],
   "source": [
    "df = pd.read_csv('modified_dataset_gps_mpu_right_9.csv')\n",
    "\n",
    "print(df.head(10))"
   ]
  },
  {
   "cell_type": "code",
   "execution_count": 3,
   "metadata": {},
   "outputs": [],
   "source": [
    "import numpy as np\n",
    "from pykalman import KalmanFilter\n",
    "\n",
    "df = pd.read_csv('modified_dataset_gps_mpu_right_8.csv')\n",
    "\n",
    "kf = KalmanFilter(initial_state_mean=[0,0,0,0,0,0,0,0,0,0],\n",
    " initial_state_covariance=np.eye(10),\n",
    " transition_matrices=np.eye(10),\n",
    " observation_matrices=np.eye(10),\n",
    " observation_covariance=np.eye(10),\n",
    " transition_covariance=np.eye(10))\n",
    "\n",
    "filtered_state_means, filtered_state_covariances = kf.filter(df.values)\n",
    "\n",
    "latitude = filtered_state_means[:, 8]\n",
    "longitude = filtered_state_means[:, 9]\n",
    "\n",
    "result_df = pd.DataFrame({'latitude': latitude, 'longitude': longitude})\n",
    "\n",
    "result_df.to_csv('result_gps_mpu_right_9.csv', index=False)"
   ]
  },
  {
   "cell_type": "code",
   "execution_count": 4,
   "metadata": {},
   "outputs": [
    {
     "name": "stdout",
     "output_type": "stream",
     "text": [
      "    latitude  longitude\n",
      "0 -13.858875 -25.549506\n",
      "1 -22.174200 -40.879210\n",
      "2 -25.585615 -47.168319\n",
      "3 -26.902522 -49.596100\n",
      "4 -27.406314 -50.524866\n",
      "5 -27.598790 -50.879703\n",
      "6 -27.672311 -51.015244\n",
      "7 -27.700394 -51.067016\n",
      "8 -27.711120 -51.086791\n",
      "9 -27.715218 -51.094344\n"
     ]
    }
   ],
   "source": [
    "df = pd.read_csv('result_gps_mpu_right_9.csv')\n",
    "\n",
    "print(df.head(10))"
   ]
  },
  {
   "cell_type": "code",
   "execution_count": null,
   "metadata": {},
   "outputs": [],
   "source": []
  }
 ],
 "metadata": {
  "kernelspec": {
   "display_name": "Python 3",
   "language": "python",
   "name": "python3"
  },
  "language_info": {
   "codemirror_mode": {
    "name": "ipython",
    "version": 3
   },
   "file_extension": ".py",
   "mimetype": "text/x-python",
   "name": "python",
   "nbconvert_exporter": "python",
   "pygments_lexer": "ipython3",
   "version": "3.7.6"
  }
 },
 "nbformat": 4,
 "nbformat_minor": 4
}
