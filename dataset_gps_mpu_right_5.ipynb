{
 "cells": [
  {
   "cell_type": "code",
   "execution_count": 1,
   "metadata": {},
   "outputs": [],
   "source": [
    "import pandas as pd\n",
    "\n",
    "df = pd.read_csv('dataset_gps_mpu_right_5.csv')\n",
    "\n",
    "df = df[['timestamp', 'acc_x_dashboard', 'acc_y_dashboard', 'acc_z_dashboard', \n",
    " 'gyro_x_dashboard', 'gyro_y_dashboard', 'gyro_z_dashboard', 'timestamp_gps',\n",
    " 'latitude', 'longitude']]\n",
    "\n",
    "df.to_csv('modified_dataset_gps_mpu_right_5.csv', index=False)"
   ]
  },
  {
   "cell_type": "code",
   "execution_count": 2,
   "metadata": {},
   "outputs": [
    {
     "name": "stdout",
     "output_type": "stream",
     "text": [
      "      timestamp  acc_x_dashboard  acc_y_dashboard  acc_z_dashboard  \\\n",
      "0  1.577309e+09         0.040163         0.026695         9.881229   \n",
      "1  1.577309e+09        -0.010116         0.029090         9.864470   \n",
      "2  1.577309e+09         0.005447         0.049440         9.896792   \n",
      "3  1.577309e+09         0.009038        -0.004429         9.830951   \n",
      "4  1.577309e+09         0.018615         0.024301         9.854893   \n",
      "5  1.577309e+09         0.037769         0.045849         9.835740   \n",
      "6  1.577309e+09         0.013827         0.030287         9.826163   \n",
      "7  1.577309e+09         0.001856         0.024301         9.902777   \n",
      "8  1.577309e+09        -0.038846        -0.006823         9.799827   \n",
      "9  1.577309e+09        -0.017298         0.021907         9.857287   \n",
      "\n",
      "   gyro_x_dashboard  gyro_y_dashboard  gyro_z_dashboard  timestamp_gps  \\\n",
      "0          0.105286          0.028229          0.106239   1.577309e+09   \n",
      "1         -0.291443         -0.093842          0.136757   1.577309e+09   \n",
      "2         -0.077820         -0.017548         -0.061607   1.577309e+09   \n",
      "3          0.044250          0.119781          0.014687   1.577309e+09   \n",
      "4         -0.291443          0.180817         -0.107384   1.577309e+09   \n",
      "5         -0.108337          0.180817         -0.107384   1.577309e+09   \n",
      "6          0.059509         -0.017548          0.075722   1.577309e+09   \n",
      "7         -0.077820          0.302887         -0.259972   1.577309e+09   \n",
      "8          0.135803         -0.063324         -0.137901   1.577309e+09   \n",
      "9          0.013733          0.150299          0.167274   1.577309e+09   \n",
      "\n",
      "    latitude  longitude  \n",
      "0 -27.717733 -51.099063  \n",
      "1 -27.717733 -51.099063  \n",
      "2 -27.717733 -51.099063  \n",
      "3 -27.717733 -51.099063  \n",
      "4 -27.717733 -51.099063  \n",
      "5 -27.717733 -51.099063  \n",
      "6 -27.717733 -51.099063  \n",
      "7 -27.717733 -51.099063  \n",
      "8 -27.717733 -51.099063  \n",
      "9 -27.717733 -51.099063  \n"
     ]
    }
   ],
   "source": [
    "df = pd.read_csv('modified_dataset_gps_mpu_right_5.csv')\n",
    "\n",
    "print(df.head(10))"
   ]
  },
  {
   "cell_type": "code",
   "execution_count": 3,
   "metadata": {},
   "outputs": [],
   "source": [
    "import numpy as np\n",
    "from pykalman import KalmanFilter\n",
    "\n",
    "df = pd.read_csv('modified_dataset_gps_mpu_right_5.csv')\n",
    "\n",
    "kf = KalmanFilter(initial_state_mean=[0,0,0,0,0,0,0,0,0,0],\n",
    " initial_state_covariance=np.eye(10),\n",
    " transition_matrices=np.eye(10),\n",
    " observation_matrices=np.eye(10),\n",
    " observation_covariance=np.eye(10),\n",
    " transition_covariance=np.eye(10))\n",
    "\n",
    "filtered_state_means, filtered_state_covariances = kf.filter(df.values)\n",
    "\n",
    "latitude = filtered_state_means[:, 8]\n",
    "longitude = filtered_state_means[:, 9]\n",
    "\n",
    "result_df = pd.DataFrame({'latitude': latitude, 'longitude': longitude})\n",
    "\n",
    "result_df.to_csv('result_gps_mpu_right_5.csv', index=False)"
   ]
  },
  {
   "cell_type": "code",
   "execution_count": 4,
   "metadata": {},
   "outputs": [
    {
     "name": "stdout",
     "output_type": "stream",
     "text": [
      "    latitude  longitude\n",
      "0 -13.858867 -25.549532\n",
      "1 -22.174187 -40.879251\n",
      "2 -25.585600 -47.168366\n",
      "3 -26.902506 -49.596150\n",
      "4 -27.406298 -50.524917\n",
      "5 -27.598773 -50.879754\n",
      "6 -27.672294 -51.015294\n",
      "7 -27.700377 -51.067066\n",
      "8 -27.711104 -51.086842\n",
      "9 -27.715201 -51.094395\n"
     ]
    }
   ],
   "source": [
    "df = pd.read_csv('result_gps_mpu_right_5.csv')\n",
    "\n",
    "print(df.head(10))"
   ]
  },
  {
   "cell_type": "code",
   "execution_count": null,
   "metadata": {},
   "outputs": [],
   "source": []
  }
 ],
 "metadata": {
  "kernelspec": {
   "display_name": "Python 3",
   "language": "python",
   "name": "python3"
  },
  "language_info": {
   "codemirror_mode": {
    "name": "ipython",
    "version": 3
   },
   "file_extension": ".py",
   "mimetype": "text/x-python",
   "name": "python",
   "nbconvert_exporter": "python",
   "pygments_lexer": "ipython3",
   "version": "3.7.6"
  }
 },
 "nbformat": 4,
 "nbformat_minor": 4
}
