{
 "cells": [
  {
   "cell_type": "code",
   "execution_count": 9,
   "metadata": {},
   "outputs": [],
   "source": [
    "import pandas as pd\n",
    "\n",
    "df = pd.read_csv('dataset_gps_mpu_left.csv')\n",
    "\n",
    "df = df[['timestamp', 'acc_x_dashboard', 'acc_y_dashboard', 'acc_z_dashboard', \n",
    " 'gyro_x_dashboard', 'gyro_y_dashboard', 'gyro_z_dashboard', 'timestamp_gps',\n",
    " 'latitude', 'longitude']]\n",
    "\n",
    "df.to_csv('modified_dataset_gps_mpu_left.csv', index=False)\n"
   ]
  },
  {
   "cell_type": "code",
   "execution_count": 10,
   "metadata": {},
   "outputs": [
    {
     "name": "stdout",
     "output_type": "stream",
     "text": [
      "      timestamp  acc_x_dashboard  acc_y_dashboard  acc_z_dashboard  \\\n",
      "0  1.577219e+09         0.365116         0.167893         9.793961   \n",
      "1  1.577219e+09         0.392649         0.176273         9.771216   \n",
      "2  1.577219e+09         0.409408         0.181062         9.732909   \n",
      "3  1.577219e+09         0.371101         0.164302         9.749668   \n",
      "4  1.577219e+09         0.390255         0.159514         9.869378   \n",
      "5  1.577219e+09         0.344765         0.185850         9.799946   \n",
      "6  1.577219e+09         0.325611         0.149937         9.749668   \n",
      "7  1.577219e+09         0.356736         0.160711         9.752062   \n",
      "8  1.577219e+09         0.385466         0.164302         9.759245   \n",
      "9  1.577219e+09         0.359130         0.142754         9.811917   \n",
      "\n",
      "   gyro_x_dashboard  gyro_y_dashboard  gyro_z_dashboard  timestamp_gps  \\\n",
      "0         -0.133896         -0.018883          0.138092   1.577219e+09   \n",
      "1         -0.027084         -0.003624          0.000763   1.577219e+09   \n",
      "2          0.125504         -0.186729         -0.090790   1.577219e+09   \n",
      "3         -0.088120         -0.034142          0.046539   1.577219e+09   \n",
      "4         -0.179672          0.118446         -0.182343   1.577219e+09   \n",
      "5         -0.088120         -0.034142          0.061798   1.577219e+09   \n",
      "6         -0.027084         -0.034142         -0.060272   1.577219e+09   \n",
      "7         -0.103378          0.179482         -0.090790   1.577219e+09   \n",
      "8         -0.088120         -0.125694          0.122833   1.577219e+09   \n",
      "9          0.094986         -0.003624          0.061798   1.577219e+09   \n",
      "\n",
      "    latitude  longitude  \n",
      "0 -27.717841 -51.098865  \n",
      "1 -27.717841 -51.098865  \n",
      "2 -27.717841 -51.098865  \n",
      "3 -27.717841 -51.098865  \n",
      "4 -27.717841 -51.098865  \n",
      "5 -27.717841 -51.098865  \n",
      "6 -27.717841 -51.098865  \n",
      "7 -27.717841 -51.098865  \n",
      "8 -27.717841 -51.098865  \n",
      "9 -27.717841 -51.098865  \n"
     ]
    }
   ],
   "source": [
    "df = pd.read_csv('modified_dataset_gps_mpu_left.csv')\n",
    "\n",
    "print(df.head(10))"
   ]
  },
  {
   "cell_type": "code",
   "execution_count": 17,
   "metadata": {},
   "outputs": [],
   "source": [
    "import numpy as np\n",
    "from pykalman import KalmanFilter\n",
    "\n",
    "df = pd.read_csv('modified_dataset_gps_mpu_left.csv')\n",
    "\n",
    "kf = KalmanFilter(initial_state_mean=[0,0,0,0,0,0,0,0,0,0],\n",
    " initial_state_covariance=np.eye(10),\n",
    " transition_matrices=np.eye(10),\n",
    " observation_matrices=np.eye(10),\n",
    " observation_covariance=np.eye(10),\n",
    " transition_covariance=np.eye(10))\n",
    "\n",
    "filtered_state_means, filtered_state_covariances = kf.filter(df.values)\n",
    "\n",
    "latitude = filtered_state_means[:, 8]\n",
    "longitude = filtered_state_means[:, 9]\n",
    "\n",
    "result_df = pd.DataFrame({'latitude': latitude, 'longitude': longitude})\n",
    "\n",
    "result_df.to_csv('result_gps_mpu_left.csv', index=False)\n"
   ]
  },
  {
   "cell_type": "code",
   "execution_count": 19,
   "metadata": {},
   "outputs": [
    {
     "name": "stdout",
     "output_type": "stream",
     "text": [
      "    latitude  longitude\n",
      "0 -13.858920 -25.549433\n",
      "1 -22.174273 -40.879092\n",
      "2 -25.585699 -47.168183\n",
      "3 -26.902610 -49.595958\n",
      "4 -27.406405 -50.524721\n",
      "5 -27.598880 -50.879557\n",
      "6 -27.672402 -51.015097\n",
      "7 -27.700485 -51.066869\n",
      "8 -27.711211 -51.086644\n",
      "9 -27.715309 -51.094197\n"
     ]
    }
   ],
   "source": [
    "df = pd.read_csv('result_gps_mpu_left.csv')\n",
    "\n",
    "print(df.head(10))"
   ]
  },
  {
   "cell_type": "code",
   "execution_count": null,
   "metadata": {},
   "outputs": [],
   "source": []
  }
 ],
 "metadata": {
  "kernelspec": {
   "display_name": "Python 3",
   "language": "python",
   "name": "python3"
  },
  "language_info": {
   "codemirror_mode": {
    "name": "ipython",
    "version": 3
   },
   "file_extension": ".py",
   "mimetype": "text/x-python",
   "name": "python",
   "nbconvert_exporter": "python",
   "pygments_lexer": "ipython3",
   "version": "3.7.6"
  }
 },
 "nbformat": 4,
 "nbformat_minor": 4
}
