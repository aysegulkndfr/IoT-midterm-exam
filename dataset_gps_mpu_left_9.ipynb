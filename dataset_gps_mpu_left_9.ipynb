{
 "cells": [
  {
   "cell_type": "code",
   "execution_count": 1,
   "metadata": {},
   "outputs": [],
   "source": [
    "import pandas as pd\n",
    "\n",
    "df = pd.read_csv('dataset_gps_mpu_left_9.csv')\n",
    "\n",
    "df = df[['timestamp', 'acc_x_dashboard', 'acc_y_dashboard', 'acc_z_dashboard', \n",
    " 'gyro_x_dashboard', 'gyro_y_dashboard', 'gyro_z_dashboard', 'timestamp_gps',\n",
    " 'latitude', 'longitude']]\n",
    "\n",
    "df.to_csv('modified_dataset_gps_mpu_left_9.csv', index=False)"
   ]
  },
  {
   "cell_type": "code",
   "execution_count": 2,
   "metadata": {},
   "outputs": [
    {
     "name": "stdout",
     "output_type": "stream",
     "text": [
      "      timestamp  acc_x_dashboard  acc_y_dashboard  acc_z_dashboard  \\\n",
      "0  1.577399e+09        -0.025259         0.059256         9.826881   \n",
      "1  1.577399e+09        -0.015682         0.056862         9.838852   \n",
      "2  1.577399e+09        -0.042018         0.035314         9.810122   \n",
      "3  1.577399e+09        -0.009697         0.056862         9.799348   \n",
      "4  1.577399e+09        -0.044412         0.052074         9.850823   \n",
      "5  1.577399e+09        -0.022865         0.044891         9.810122   \n",
      "6  1.577399e+09        -0.020470         0.068833         9.775406   \n",
      "7  1.577399e+09        -0.013288         0.020949         9.838852   \n",
      "8  1.577399e+09        -0.015682         0.035314         9.800545   \n",
      "9  1.577399e+09         0.010654         0.011372         9.778997   \n",
      "\n",
      "   gyro_x_dashboard  gyro_y_dashboard  gyro_z_dashboard  timestamp_gps  \\\n",
      "0          0.038528          0.251007         -0.043488   1.577399e+09   \n",
      "1         -0.053024         -0.084686          0.048065   1.577399e+09   \n",
      "2          0.008011          0.128937          0.139618   1.577399e+09   \n",
      "3          0.084305         -0.054169         -0.058746   1.577399e+09   \n",
      "4         -0.022507          0.251007         -0.043488   1.577399e+09   \n",
      "5         -0.083542          0.006866          0.078583   1.577399e+09   \n",
      "6          0.145340         -0.145721         -0.012970   1.577399e+09   \n",
      "7         -0.114059         -0.237274          0.078583   1.577399e+09   \n",
      "8         -0.022507         -0.023651          0.017548   1.577399e+09   \n",
      "9          0.069046         -0.084686         -0.043488   1.577399e+09   \n",
      "\n",
      "    latitude  longitude  \n",
      "0 -27.717758 -51.098993  \n",
      "1 -27.717758 -51.098993  \n",
      "2 -27.717758 -51.098993  \n",
      "3 -27.717758 -51.098993  \n",
      "4 -27.717758 -51.098993  \n",
      "5 -27.717758 -51.098993  \n",
      "6 -27.717758 -51.098993  \n",
      "7 -27.717758 -51.098993  \n",
      "8 -27.717758 -51.098993  \n",
      "9 -27.717758 -51.098993  \n"
     ]
    }
   ],
   "source": [
    "df = pd.read_csv('modified_dataset_gps_mpu_left_9.csv')\n",
    "\n",
    "print(df.head(10))"
   ]
  },
  {
   "cell_type": "code",
   "execution_count": 3,
   "metadata": {},
   "outputs": [],
   "source": [
    "import numpy as np\n",
    "from pykalman import KalmanFilter\n",
    "\n",
    "df = pd.read_csv('modified_dataset_gps_mpu_left_9.csv')\n",
    "\n",
    "kf = KalmanFilter(initial_state_mean=[0,0,0,0,0,0,0,0,0,0],\n",
    " initial_state_covariance=np.eye(10),\n",
    " transition_matrices=np.eye(10),\n",
    " observation_matrices=np.eye(10),\n",
    " observation_covariance=np.eye(10),\n",
    " transition_covariance=np.eye(10))\n",
    "\n",
    "filtered_state_means, filtered_state_covariances = kf.filter(df.values)\n",
    "\n",
    "latitude = filtered_state_means[:, 8]\n",
    "longitude = filtered_state_means[:, 9]\n",
    "\n",
    "result_df = pd.DataFrame({'latitude': latitude, 'longitude': longitude})\n",
    "\n",
    "result_df.to_csv('result_gps_mpu_left_9.csv', index=False)"
   ]
  },
  {
   "cell_type": "code",
   "execution_count": 4,
   "metadata": {},
   "outputs": [
    {
     "name": "stdout",
     "output_type": "stream",
     "text": [
      "    latitude  longitude\n",
      "0 -13.858879 -25.549497\n",
      "1 -22.174206 -40.879195\n",
      "2 -25.585623 -47.168302\n",
      "3 -26.902530 -49.596082\n",
      "4 -27.406322 -50.524847\n",
      "5 -27.598798 -50.879684\n",
      "6 -27.672319 -51.015225\n",
      "7 -27.700402 -51.066997\n",
      "8 -27.711129 -51.086772\n",
      "9 -27.715226 -51.094325\n"
     ]
    }
   ],
   "source": [
    "df = pd.read_csv('result_gps_mpu_left_9.csv')\n",
    "\n",
    "print(df.head(10))"
   ]
  },
  {
   "cell_type": "code",
   "execution_count": null,
   "metadata": {},
   "outputs": [],
   "source": []
  }
 ],
 "metadata": {
  "kernelspec": {
   "display_name": "Python 3",
   "language": "python",
   "name": "python3"
  },
  "language_info": {
   "codemirror_mode": {
    "name": "ipython",
    "version": 3
   },
   "file_extension": ".py",
   "mimetype": "text/x-python",
   "name": "python",
   "nbconvert_exporter": "python",
   "pygments_lexer": "ipython3",
   "version": "3.7.6"
  }
 },
 "nbformat": 4,
 "nbformat_minor": 4
}
