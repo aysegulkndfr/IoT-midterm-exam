{
 "cells": [
  {
   "cell_type": "code",
   "execution_count": 1,
   "metadata": {},
   "outputs": [],
   "source": [
    "import pandas as pd\n",
    "\n",
    "df = pd.read_csv('dataset_gps_mpu_left_3.csv')\n",
    "\n",
    "df = df[['timestamp', 'acc_x_dashboard', 'acc_y_dashboard', 'acc_z_dashboard', \n",
    " 'gyro_x_dashboard', 'gyro_y_dashboard', 'gyro_z_dashboard', 'timestamp_gps',\n",
    " 'latitude', 'longitude']]\n",
    "\n",
    "df.to_csv('modified_dataset_gps_mpu_left_3.csv', index=False)\n"
   ]
  },
  {
   "cell_type": "code",
   "execution_count": 2,
   "metadata": {},
   "outputs": [
    {
     "name": "stdout",
     "output_type": "stream",
     "text": [
      "      timestamp  acc_x_dashboard  acc_y_dashboard  acc_z_dashboard  \\\n",
      "0  1.577223e+09         0.017119        -0.009158         9.781631   \n",
      "1  1.577223e+09        -0.016400         0.012390         9.781631   \n",
      "2  1.577223e+09        -0.018794        -0.018735         9.769660   \n",
      "3  1.577223e+09        -0.014006         0.000419         9.815149   \n",
      "4  1.577223e+09        -0.008021         0.011193         9.803178   \n",
      "5  1.577223e+09         0.002753        -0.018735         9.817544   \n",
      "6  1.577223e+09        -0.006823         0.012390         9.829515   \n",
      "7  1.577223e+09        -0.033160        -0.057042         9.786419   \n",
      "8  1.577223e+09        -0.019992        -0.001975         9.813952   \n",
      "9  1.577223e+09         0.019513         0.012390         9.860639   \n",
      "\n",
      "   gyro_x_dashboard  gyro_y_dashboard  gyro_z_dashboard  timestamp_gps  \\\n",
      "0          0.044823         -0.139618          0.055695   1.577223e+09   \n",
      "1          0.227928          0.028229          0.025177   1.577223e+09   \n",
      "2          0.044823          0.058746         -0.218964   1.577223e+09   \n",
      "3         -0.046730         -0.032806          0.238800   1.577223e+09   \n",
      "4          0.060081          0.104523         -0.096893   1.577223e+09   \n",
      "5          0.197411          0.241852          0.055695   1.577223e+09   \n",
      "6         -0.321388          0.028229         -0.157928   1.577223e+09   \n",
      "7          0.014305          0.211334          0.086212   1.577223e+09   \n",
      "8          0.212669          0.135040          0.009918   1.577223e+09   \n",
      "9          0.349998         -0.002289         -0.035858   1.577223e+09   \n",
      "\n",
      "    latitude  longitude  \n",
      "0 -27.717713 -51.099037  \n",
      "1 -27.717713 -51.099037  \n",
      "2 -27.717713 -51.099037  \n",
      "3 -27.717713 -51.099037  \n",
      "4 -27.717713 -51.099037  \n",
      "5 -27.717713 -51.099037  \n",
      "6 -27.717713 -51.099037  \n",
      "7 -27.717713 -51.099037  \n",
      "8 -27.717713 -51.099037  \n",
      "9 -27.717713 -51.099037  \n"
     ]
    }
   ],
   "source": [
    "df = pd.read_csv('modified_dataset_gps_mpu_left_3.csv')\n",
    "\n",
    "print(df.head(10))"
   ]
  },
  {
   "cell_type": "code",
   "execution_count": 3,
   "metadata": {},
   "outputs": [],
   "source": [
    "import numpy as np\n",
    "from pykalman import KalmanFilter\n",
    "\n",
    "df = pd.read_csv('modified_dataset_gps_mpu_left_3.csv')\n",
    "\n",
    "kf = KalmanFilter(initial_state_mean=[0,0,0,0,0,0,0,0,0,0],\n",
    " initial_state_covariance=np.eye(10),\n",
    " transition_matrices=np.eye(10),\n",
    " observation_matrices=np.eye(10),\n",
    " observation_covariance=np.eye(10),\n",
    " transition_covariance=np.eye(10))\n",
    "\n",
    "filtered_state_means, filtered_state_covariances = kf.filter(df.values)\n",
    "\n",
    "latitude = filtered_state_means[:, 8]\n",
    "longitude = filtered_state_means[:, 9]\n",
    "\n",
    "result_df = pd.DataFrame({'latitude': latitude, 'longitude': longitude})\n",
    "\n",
    "result_df.to_csv('result_gps_mpu_left_3.csv', index=False)"
   ]
  },
  {
   "cell_type": "code",
   "execution_count": 4,
   "metadata": {},
   "outputs": [
    {
     "name": "stdout",
     "output_type": "stream",
     "text": [
      "    latitude  longitude\n",
      "0 -13.858857 -25.549519\n",
      "1 -22.174171 -40.879230\n",
      "2 -25.585582 -47.168342\n",
      "3 -26.902487 -49.596124\n",
      "4 -27.406278 -50.524891\n",
      "5 -27.598753 -50.879728\n",
      "6 -27.672275 -51.015268\n",
      "7 -27.700357 -51.067040\n",
      "8 -27.711084 -51.086815\n",
      "9 -27.715181 -51.094369\n"
     ]
    }
   ],
   "source": [
    "df = pd.read_csv('result_gps_mpu_left_3.csv')\n",
    "\n",
    "print(df.head(10))"
   ]
  },
  {
   "cell_type": "code",
   "execution_count": null,
   "metadata": {},
   "outputs": [],
   "source": []
  }
 ],
 "metadata": {
  "kernelspec": {
   "display_name": "Python 3",
   "language": "python",
   "name": "python3"
  },
  "language_info": {
   "codemirror_mode": {
    "name": "ipython",
    "version": 3
   },
   "file_extension": ".py",
   "mimetype": "text/x-python",
   "name": "python",
   "nbconvert_exporter": "python",
   "pygments_lexer": "ipython3",
   "version": "3.7.6"
  }
 },
 "nbformat": 4,
 "nbformat_minor": 4
}
