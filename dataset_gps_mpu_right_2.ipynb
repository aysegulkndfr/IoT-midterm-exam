{
 "cells": [
  {
   "cell_type": "code",
   "execution_count": 2,
   "metadata": {},
   "outputs": [],
   "source": [
    "import pandas as pd\n",
    "\n",
    "df = pd.read_csv('dataset_gps_mpu_right_2.csv')\n",
    "\n",
    "df = df[['timestamp', 'acc_x_dashboard', 'acc_y_dashboard', 'acc_z_dashboard', \n",
    " 'gyro_x_dashboard', 'gyro_y_dashboard', 'gyro_z_dashboard', 'timestamp_gps',\n",
    " 'latitude', 'longitude']]\n",
    "\n",
    "df.to_csv('modified_dataset_gps_mpu_right_2.csv', index=False)"
   ]
  },
  {
   "cell_type": "code",
   "execution_count": 3,
   "metadata": {},
   "outputs": [
    {
     "name": "stdout",
     "output_type": "stream",
     "text": [
      "      timestamp  acc_x_dashboard  acc_y_dashboard  acc_z_dashboard  \\\n",
      "0  1.577221e+09        -0.018974        -0.021608         9.830472   \n",
      "1  1.577221e+09        -0.050099         0.002334         9.796953   \n",
      "2  1.577221e+09        -0.011791        -0.007242         9.796953   \n",
      "3  1.577221e+09        -0.058478        -0.026396         9.774209   \n",
      "4  1.577221e+09        -0.023762        -0.002454         9.823290   \n",
      "5  1.577221e+09        -0.042916        -0.012031         9.816107   \n",
      "6  1.577221e+09        -0.010594        -0.043155         9.789771   \n",
      "7  1.577221e+09         0.007362        -0.028790         9.758646   \n",
      "8  1.577221e+09        -0.030945        -0.019213         9.799348   \n",
      "9  1.577221e+09        -0.050099        -0.009637         9.804136   \n",
      "\n",
      "   gyro_x_dashboard  gyro_y_dashboard  gyro_z_dashboard  timestamp_gps  \\\n",
      "0         -0.051880          0.297928          0.015640   1.577221e+09   \n",
      "1          0.238037          0.175858          0.305557   1.577221e+09   \n",
      "2         -0.280762         -0.190353          0.122452   1.577221e+09   \n",
      "3         -0.051880         -0.022507          0.122452   1.577221e+09   \n",
      "4         -0.097656          0.206375         -0.243759   1.577221e+09   \n",
      "5         -0.341797         -0.037766         -0.213242   1.577221e+09   \n",
      "6          0.131226          0.145340         -0.091171   1.577221e+09   \n",
      "7         -0.158691          0.084305          0.061417   1.577221e+09   \n",
      "8         -0.128174          0.053787          0.183487   1.577221e+09   \n",
      "9          0.024414          0.053787          0.030899   1.577221e+09   \n",
      "\n",
      "    latitude  longitude  \n",
      "0 -27.717712 -51.099027  \n",
      "1 -27.717712 -51.099027  \n",
      "2 -27.717712 -51.099027  \n",
      "3 -27.717712 -51.099027  \n",
      "4 -27.717712 -51.099027  \n",
      "5 -27.717712 -51.099027  \n",
      "6 -27.717712 -51.099027  \n",
      "7 -27.717712 -51.099027  \n",
      "8 -27.717712 -51.099027  \n",
      "9 -27.717712 -51.099027  \n"
     ]
    }
   ],
   "source": [
    "df = pd.read_csv('modified_dataset_gps_mpu_right_2.csv')\n",
    "\n",
    "print(df.head(10))"
   ]
  },
  {
   "cell_type": "code",
   "execution_count": 4,
   "metadata": {},
   "outputs": [],
   "source": [
    "import numpy as np\n",
    "from pykalman import KalmanFilter\n",
    "\n",
    "df = pd.read_csv('modified_dataset_gps_mpu_right_2.csv')\n",
    "\n",
    "kf = KalmanFilter(initial_state_mean=[0,0,0,0,0,0,0,0,0,0],\n",
    " initial_state_covariance=np.eye(10),\n",
    " transition_matrices=np.eye(10),\n",
    " observation_matrices=np.eye(10),\n",
    " observation_covariance=np.eye(10),\n",
    " transition_covariance=np.eye(10))\n",
    "\n",
    "filtered_state_means, filtered_state_covariances = kf.filter(df.values)\n",
    "\n",
    "latitude = filtered_state_means[:, 8]\n",
    "longitude = filtered_state_means[:, 9]\n",
    "\n",
    "result_df = pd.DataFrame({'latitude': latitude, 'longitude': longitude})\n",
    "\n",
    "result_df.to_csv('result_gps_mpu_right_2.csv', index=False)"
   ]
  },
  {
   "cell_type": "code",
   "execution_count": 5,
   "metadata": {},
   "outputs": [
    {
     "name": "stdout",
     "output_type": "stream",
     "text": [
      "    latitude  longitude\n",
      "0 -13.858856 -25.549514\n",
      "1 -22.174170 -40.879222\n",
      "2 -25.585581 -47.168333\n",
      "3 -26.902485 -49.596115\n",
      "4 -27.406277 -50.524881\n",
      "5 -27.598752 -50.879718\n",
      "6 -27.672273 -51.015258\n",
      "7 -27.700356 -51.067030\n",
      "8 -27.711083 -51.086805\n",
      "9 -27.715180 -51.094359\n"
     ]
    }
   ],
   "source": [
    "df = pd.read_csv('result_gps_mpu_right_2.csv')\n",
    "\n",
    "print(df.head(10))"
   ]
  },
  {
   "cell_type": "code",
   "execution_count": null,
   "metadata": {},
   "outputs": [],
   "source": []
  }
 ],
 "metadata": {
  "kernelspec": {
   "display_name": "Python 3",
   "language": "python",
   "name": "python3"
  },
  "language_info": {
   "codemirror_mode": {
    "name": "ipython",
    "version": 3
   },
   "file_extension": ".py",
   "mimetype": "text/x-python",
   "name": "python",
   "nbconvert_exporter": "python",
   "pygments_lexer": "ipython3",
   "version": "3.7.6"
  }
 },
 "nbformat": 4,
 "nbformat_minor": 4
}
