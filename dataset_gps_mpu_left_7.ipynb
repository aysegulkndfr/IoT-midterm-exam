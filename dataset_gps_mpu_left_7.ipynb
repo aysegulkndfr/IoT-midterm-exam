{
 "cells": [
  {
   "cell_type": "code",
   "execution_count": 1,
   "metadata": {},
   "outputs": [],
   "source": [
    "import pandas as pd\n",
    "\n",
    "df = pd.read_csv('dataset_gps_mpu_left_7.csv')\n",
    "\n",
    "df = df[['timestamp', 'acc_x_dashboard', 'acc_y_dashboard', 'acc_z_dashboard', \n",
    " 'gyro_x_dashboard', 'gyro_y_dashboard', 'gyro_z_dashboard', 'timestamp_gps',\n",
    " 'latitude', 'longitude']]\n",
    "\n",
    "df.to_csv('modified_dataset_gps_mpu_left_7.csv', index=False)"
   ]
  },
  {
   "cell_type": "code",
   "execution_count": 2,
   "metadata": {},
   "outputs": [
    {
     "name": "stdout",
     "output_type": "stream",
     "text": [
      "      timestamp  acc_x_dashboard  acc_y_dashboard  acc_z_dashboard  \\\n",
      "0  1.577395e+09        -0.561201         0.017119         9.104730   \n",
      "1  1.577395e+09        -0.421140         0.655173        10.409570   \n",
      "2  1.577395e+09        -0.569581         0.846709        10.622654   \n",
      "3  1.577395e+09        -0.684502         0.183516         9.667367   \n",
      "4  1.577395e+09        -0.367271         0.140420         8.896434   \n",
      "5  1.577395e+09        -0.512120         0.521098        10.292254   \n",
      "6  1.577395e+09        -0.722809         0.829950        10.517309   \n",
      "7  1.577395e+09        -0.610282        -0.027174         9.394428   \n",
      "8  1.577395e+09        -0.367271         0.354701         9.607512   \n",
      "9  1.577395e+09        -0.555215         0.456455        10.191697   \n",
      "\n",
      "   gyro_x_dashboard  gyro_y_dashboard  gyro_z_dashboard  timestamp_gps  \\\n",
      "0         -0.402451         -0.266075         -0.090790   1.577395e+09   \n",
      "1          1.092911         -0.388145          0.183868   1.577395e+09   \n",
      "2          0.329971          0.161171         -0.151825   1.577395e+09   \n",
      "3         -0.982285          0.496864          0.000763   1.577395e+09   \n",
      "4          0.024796         -0.327110         -0.136566   1.577395e+09   \n",
      "5          0.543594          0.222206         -0.243378   1.577395e+09   \n",
      "6          0.299454          0.100136          0.458527   1.577395e+09   \n",
      "7         -0.524521          0.130653         -0.212860   1.577395e+09   \n",
      "8          0.329971         -0.357628         -0.014496   1.577395e+09   \n",
      "9         -0.524521          0.496864         -0.457001   1.577395e+09   \n",
      "\n",
      "    latitude  longitude  \n",
      "0 -27.717691 -51.099059  \n",
      "1 -27.717691 -51.099059  \n",
      "2 -27.717691 -51.099059  \n",
      "3 -27.717691 -51.099059  \n",
      "4 -27.717691 -51.099059  \n",
      "5 -27.717691 -51.099059  \n",
      "6 -27.717691 -51.099059  \n",
      "7 -27.717691 -51.099059  \n",
      "8 -27.717691 -51.099059  \n",
      "9 -27.717691 -51.099059  \n"
     ]
    }
   ],
   "source": [
    "df = pd.read_csv('modified_dataset_gps_mpu_left_7.csv')\n",
    "\n",
    "print(df.head(10))"
   ]
  },
  {
   "cell_type": "code",
   "execution_count": 5,
   "metadata": {},
   "outputs": [],
   "source": [
    "import numpy as np\n",
    "from pykalman import KalmanFilter\n",
    "\n",
    "df = pd.read_csv('modified_dataset_gps_mpu_left_7.csv')\n",
    "\n",
    "kf = KalmanFilter(initial_state_mean=[0,0,0,0,0,0,0,0,0,0],\n",
    " initial_state_covariance=np.eye(10),\n",
    " transition_matrices=np.eye(10),\n",
    " observation_matrices=np.eye(10),\n",
    " observation_covariance=np.eye(10),\n",
    " transition_covariance=np.eye(10))\n",
    "\n",
    "filtered_state_means, filtered_state_covariances = kf.filter(df.values)\n",
    "\n",
    "latitude = filtered_state_means[:, 8]\n",
    "longitude = filtered_state_means[:, 9]\n",
    "\n",
    "result_df = pd.DataFrame({'latitude': latitude, 'longitude': longitude})\n",
    "\n",
    "result_df.to_csv('result_gps_mpu_left_7.csv', index=False)"
   ]
  },
  {
   "cell_type": "code",
   "execution_count": 6,
   "metadata": {},
   "outputs": [
    {
     "name": "stdout",
     "output_type": "stream",
     "text": [
      "    latitude  longitude\n",
      "0 -13.858846 -25.549529\n",
      "1 -22.174153 -40.879247\n",
      "2 -25.585561 -47.168362\n",
      "3 -26.902465 -49.596145\n",
      "4 -27.406256 -50.524912\n",
      "5 -27.598731 -50.879749\n",
      "6 -27.672252 -51.015290\n",
      "7 -27.700335 -51.067062\n",
      "8 -27.711062 -51.086837\n",
      "9 -27.715159 -51.094390\n"
     ]
    }
   ],
   "source": [
    "df = pd.read_csv('result_gps_mpu_left_7.csv')\n",
    "\n",
    "print(df.head(10))"
   ]
  },
  {
   "cell_type": "code",
   "execution_count": null,
   "metadata": {},
   "outputs": [],
   "source": []
  }
 ],
 "metadata": {
  "kernelspec": {
   "display_name": "Python 3",
   "language": "python",
   "name": "python3"
  },
  "language_info": {
   "codemirror_mode": {
    "name": "ipython",
    "version": 3
   },
   "file_extension": ".py",
   "mimetype": "text/x-python",
   "name": "python",
   "nbconvert_exporter": "python",
   "pygments_lexer": "ipython3",
   "version": "3.7.6"
  }
 },
 "nbformat": 4,
 "nbformat_minor": 4
}
