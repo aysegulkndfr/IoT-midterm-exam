{
 "cells": [
  {
   "cell_type": "code",
   "execution_count": 1,
   "metadata": {},
   "outputs": [],
   "source": [
    "import pandas as pd\n",
    "\n",
    "df = pd.read_csv('dataset_gps_mpu_right_7.csv')\n",
    "\n",
    "df = df[['timestamp', 'acc_x_dashboard', 'acc_y_dashboard', 'acc_z_dashboard', \n",
    " 'gyro_x_dashboard', 'gyro_y_dashboard', 'gyro_z_dashboard', 'timestamp_gps',\n",
    " 'latitude', 'longitude']]\n",
    "\n",
    "df.to_csv('modified_dataset_gps_mpu_right_7.csv', index=False)"
   ]
  },
  {
   "cell_type": "code",
   "execution_count": 2,
   "metadata": {},
   "outputs": [
    {
     "name": "stdout",
     "output_type": "stream",
     "text": [
      "      timestamp  acc_x_dashboard  acc_y_dashboard  acc_z_dashboard  \\\n",
      "0  1.577395e+09        -0.537761         0.491862        10.237198   \n",
      "1  1.577395e+09        -0.781970         0.554112        10.057632   \n",
      "2  1.577395e+09        -0.522199         0.010628         9.115514   \n",
      "3  1.577395e+09        -0.449176         0.812685        10.613087   \n",
      "4  1.577395e+09        -0.650289         0.769590        10.445493   \n",
      "5  1.577395e+09        -0.560506         0.200967         9.205297   \n",
      "6  1.577395e+09        -0.341437         0.156674         9.104740   \n",
      "7  1.577395e+09        -0.590433         0.721706        10.514925   \n",
      "8  1.577395e+09        -0.690990         0.752830        10.299447   \n",
      "9  1.577395e+09        -0.462344         0.101608         9.387256   \n",
      "\n",
      "   gyro_x_dashboard  gyro_y_dashboard  gyro_z_dashboard  timestamp_gps  \\\n",
      "0         -0.183292         -0.660222         -0.047823   1.577395e+09   \n",
      "1         -0.122256          1.292903          0.074247   1.577395e+09   \n",
      "2         -0.580020          0.011165         -0.002047   1.577395e+09   \n",
      "3          0.915341         -1.575749          0.257353   1.577395e+09   \n",
      "4         -0.305362         -0.812810         -0.047823   1.577395e+09   \n",
      "5         -0.641055          1.353938         -0.002047   1.577395e+09   \n",
      "6          0.152402         -0.446599          0.013212   1.577395e+09   \n",
      "7          0.762753         -0.721257          0.196317   1.577395e+09   \n",
      "8          0.274472          0.468929          0.074247   1.577395e+09   \n",
      "9         -0.488467         -0.049870         -0.063082   1.577395e+09   \n",
      "\n",
      "    latitude  longitude  \n",
      "0 -27.717691 -51.099059  \n",
      "1 -27.717691 -51.099059  \n",
      "2 -27.717691 -51.099059  \n",
      "3 -27.717691 -51.099059  \n",
      "4 -27.717691 -51.099059  \n",
      "5 -27.717691 -51.099059  \n",
      "6 -27.717691 -51.099059  \n",
      "7 -27.717691 -51.099059  \n",
      "8 -27.717691 -51.099059  \n",
      "9 -27.717691 -51.099059  \n"
     ]
    }
   ],
   "source": [
    "df = pd.read_csv('modified_dataset_gps_mpu_right_7.csv')\n",
    "\n",
    "print(df.head(10))"
   ]
  },
  {
   "cell_type": "code",
   "execution_count": 3,
   "metadata": {},
   "outputs": [],
   "source": [
    "import numpy as np\n",
    "from pykalman import KalmanFilter\n",
    "\n",
    "df = pd.read_csv('modified_dataset_gps_mpu_right_7.csv')\n",
    "\n",
    "kf = KalmanFilter(initial_state_mean=[0,0,0,0,0,0,0,0,0,0],\n",
    " initial_state_covariance=np.eye(10),\n",
    " transition_matrices=np.eye(10),\n",
    " observation_matrices=np.eye(10),\n",
    " observation_covariance=np.eye(10),\n",
    " transition_covariance=np.eye(10))\n",
    "\n",
    "filtered_state_means, filtered_state_covariances = kf.filter(df.values)\n",
    "\n",
    "latitude = filtered_state_means[:, 8]\n",
    "longitude = filtered_state_means[:, 9]\n",
    "\n",
    "result_df = pd.DataFrame({'latitude': latitude, 'longitude': longitude})\n",
    "\n",
    "result_df.to_csv('result_gps_mpu_right_7.csv', index=False)"
   ]
  },
  {
   "cell_type": "code",
   "execution_count": 4,
   "metadata": {},
   "outputs": [
    {
     "name": "stdout",
     "output_type": "stream",
     "text": [
      "    latitude  longitude\n",
      "0 -13.858846 -25.549529\n",
      "1 -22.174153 -40.879247\n",
      "2 -25.585561 -47.168362\n",
      "3 -26.902465 -49.596145\n",
      "4 -27.406256 -50.524912\n",
      "5 -27.598731 -50.879749\n",
      "6 -27.672252 -51.015290\n",
      "7 -27.700335 -51.067062\n",
      "8 -27.711062 -51.086837\n",
      "9 -27.715159 -51.094390\n"
     ]
    }
   ],
   "source": [
    "df = pd.read_csv('result_gps_mpu_right_7.csv')\n",
    "\n",
    "print(df.head(10))"
   ]
  },
  {
   "cell_type": "code",
   "execution_count": null,
   "metadata": {},
   "outputs": [],
   "source": []
  }
 ],
 "metadata": {
  "kernelspec": {
   "display_name": "Python 3",
   "language": "python",
   "name": "python3"
  },
  "language_info": {
   "codemirror_mode": {
    "name": "ipython",
    "version": 3
   },
   "file_extension": ".py",
   "mimetype": "text/x-python",
   "name": "python",
   "nbconvert_exporter": "python",
   "pygments_lexer": "ipython3",
   "version": "3.7.6"
  }
 },
 "nbformat": 4,
 "nbformat_minor": 4
}
