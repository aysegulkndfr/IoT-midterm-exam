{
 "cells": [
  {
   "cell_type": "code",
   "execution_count": 1,
   "metadata": {},
   "outputs": [],
   "source": [
    "import pandas as pd\n",
    "\n",
    "df = pd.read_csv('dataset_gps_mpu_left_4.csv')\n",
    "\n",
    "df = df[['timestamp', 'acc_x_dashboard', 'acc_y_dashboard', 'acc_z_dashboard', \n",
    " 'gyro_x_dashboard', 'gyro_y_dashboard', 'gyro_z_dashboard', 'timestamp_gps',\n",
    " 'latitude', 'longitude']]\n",
    "\n",
    "df.to_csv('modified_dataset_gps_mpu_left_4.csv', index=False)"
   ]
  },
  {
   "cell_type": "code",
   "execution_count": 2,
   "metadata": {},
   "outputs": [
    {
     "name": "stdout",
     "output_type": "stream",
     "text": [
      "      timestamp  acc_x_dashboard  acc_y_dashboard  acc_z_dashboard  \\\n",
      "0  1.577307e+09         0.571221         0.192470         9.699378   \n",
      "1  1.577307e+09         0.233639         0.771867        10.020201   \n",
      "2  1.577307e+09         0.109141         0.479775         9.926827   \n",
      "3  1.577307e+09         0.470665        -0.192996         9.553332   \n",
      "4  1.577307e+09         0.518549         0.252325         9.814300   \n",
      "5  1.577307e+09         0.037315         0.733560        10.087239   \n",
      "6  1.577307e+09         0.200120        -0.046950         9.606004   \n",
      "7  1.577307e+09         0.633471        -0.370167         9.462352   \n",
      "8  1.577307e+09         0.310253         0.587514         9.995062   \n",
      "9  1.577307e+09         0.145054         0.281056         9.814300   \n",
      "\n",
      "   gyro_x_dashboard  gyro_y_dashboard  gyro_z_dashboard  timestamp_gps  \\\n",
      "0          0.239861          0.070898         -0.149983   1.577307e+09   \n",
      "1          0.361931          0.009862          0.063640   1.577307e+09   \n",
      "2          0.209343         -0.081690          0.063640   1.577307e+09   \n",
      "3         -0.492561          0.040380          0.063640   1.577307e+09   \n",
      "4          0.056755          0.070898          0.002605   1.577307e+09   \n",
      "5          0.453484          0.345556          0.155193   1.577307e+09   \n",
      "6         -0.339973         -0.020655          0.094158   1.577307e+09   \n",
      "7         -0.645149         -0.295313         -0.302571   1.577307e+09   \n",
      "8          0.560295          0.131933          0.094158   1.577307e+09   \n",
      "9          0.148308         -0.020655          0.124675   1.577307e+09   \n",
      "\n",
      "    latitude  longitude  \n",
      "0 -27.717857 -51.098897  \n",
      "1 -27.717857 -51.098897  \n",
      "2 -27.717857 -51.098897  \n",
      "3 -27.717857 -51.098897  \n",
      "4 -27.717857 -51.098897  \n",
      "5 -27.717857 -51.098897  \n",
      "6 -27.717857 -51.098897  \n",
      "7 -27.717857 -51.098897  \n",
      "8 -27.717857 -51.098897  \n",
      "9 -27.717857 -51.098897  \n"
     ]
    }
   ],
   "source": [
    "df = pd.read_csv('modified_dataset_gps_mpu_left_4.csv')\n",
    "\n",
    "print(df.head(10))"
   ]
  },
  {
   "cell_type": "code",
   "execution_count": 3,
   "metadata": {},
   "outputs": [],
   "source": [
    "import numpy as np\n",
    "from pykalman import KalmanFilter\n",
    "\n",
    "df = pd.read_csv('modified_dataset_gps_mpu_left_4.csv')\n",
    "\n",
    "kf = KalmanFilter(initial_state_mean=[0,0,0,0,0,0,0,0,0,0],\n",
    " initial_state_covariance=np.eye(10),\n",
    " transition_matrices=np.eye(10),\n",
    " observation_matrices=np.eye(10),\n",
    " observation_covariance=np.eye(10),\n",
    " transition_covariance=np.eye(10))\n",
    "\n",
    "filtered_state_means, filtered_state_covariances = kf.filter(df.values)\n",
    "\n",
    "latitude = filtered_state_means[:, 8]\n",
    "longitude = filtered_state_means[:, 9]\n",
    "\n",
    "result_df = pd.DataFrame({'latitude': latitude, 'longitude': longitude})\n",
    "\n",
    "result_df.to_csv('result_gps_mpu_left_4.csv', index=False)"
   ]
  },
  {
   "cell_type": "code",
   "execution_count": 4,
   "metadata": {},
   "outputs": [
    {
     "name": "stdout",
     "output_type": "stream",
     "text": [
      "    latitude  longitude\n",
      "0 -13.858929 -25.549448\n",
      "1 -22.174286 -40.879117\n",
      "2 -25.585714 -47.168212\n",
      "3 -26.902626 -49.595988\n",
      "4 -27.406421 -50.524752\n",
      "5 -27.598896 -50.879588\n",
      "6 -27.672418 -51.015128\n",
      "7 -27.700501 -51.066900\n",
      "8 -27.711227 -51.086675\n",
      "9 -27.715325 -51.094229\n"
     ]
    }
   ],
   "source": [
    "df = pd.read_csv('result_gps_mpu_left_4.csv')\n",
    "\n",
    "print(df.head(10))"
   ]
  },
  {
   "cell_type": "code",
   "execution_count": null,
   "metadata": {},
   "outputs": [],
   "source": []
  }
 ],
 "metadata": {
  "kernelspec": {
   "display_name": "Python 3",
   "language": "python",
   "name": "python3"
  },
  "language_info": {
   "codemirror_mode": {
    "name": "ipython",
    "version": 3
   },
   "file_extension": ".py",
   "mimetype": "text/x-python",
   "name": "python",
   "nbconvert_exporter": "python",
   "pygments_lexer": "ipython3",
   "version": "3.7.6"
  }
 },
 "nbformat": 4,
 "nbformat_minor": 4
}
